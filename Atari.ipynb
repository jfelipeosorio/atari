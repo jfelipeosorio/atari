{
  "nbformat": 4,
  "nbformat_minor": 0,
  "metadata": {
    "colab": {
      "name": "Atari.ipynb",
      "provenance": [],
      "collapsed_sections": [
        "sYQiEOHxAVAK",
        "b4vQR2qc140M",
        "wRRYttZuRCvs",
        "bG2I7nyf3gGt",
        "ffmVFPiH3gGu",
        "J5YFq6oj3gGz",
        "17o3IYMI3gG4",
        "U4P_84f53gG8",
        "39PfsbP93gHA",
        "KXRVpzg23gHG",
        "8H-g16zS3gHL",
        "nYeCKj-T3gHN",
        "oZ4DfWLM3gHP",
        "uoisniaQRZw7",
        "D3cGyt7ORZxA",
        "gKTGgtDuRZxG",
        "PnuVL9TyRZxN",
        "wMYP1-GWRZxQ",
        "cOAn6QAhRZxX",
        "AWlMpKl8RZxc",
        "9MZkYjOWRZxd",
        "374EOXq2RZxf",
        "9Z6YVCODRZxg",
        "71CzJtj-RZxj",
        "-nzL6aQTRZxm",
        "6CEW5GYWRZxp",
        "WrYhKvsDRZxq",
        "JAGLrw1-RZxt"
      ],
      "include_colab_link": true
    },
    "kernelspec": {
      "name": "python3",
      "display_name": "Python 3"
    },
    "accelerator": "GPU"
  },
  "cells": [
    {
      "cell_type": "markdown",
      "metadata": {
        "id": "view-in-github",
        "colab_type": "text"
      },
      "source": [
        "<a href=\"https://colab.research.google.com/github/juanosoriodata/atari/blob/master/Atari.ipynb\" target=\"_parent\"><img src=\"https://colab.research.google.com/assets/colab-badge.svg\" alt=\"Open In Colab\"/></a>"
      ]
    },
    {
      "cell_type": "markdown",
      "metadata": {
        "id": "S0dmSa_c8wnG",
        "colab_type": "text"
      },
      "source": [
        "Hecho por *Juan Felipe Osorio Ramírez* en el curso de Minería de Datos en la Universidad Nacional de Colombia, Sede Bogotá.\n",
        "\n",
        "El contenido (imágenes y teoría) se toma de las siguientes referencias y tiene con último fin la academia:\n",
        "1. Saito, S., Wenzhuo, Y., & Shanmugamani, R. (2018). Python Reinforcement Learning Projects: Eight hands-on projects exploring reinforcement learning algorithms using TensorFlow. Packt Publishing Ltd.\n",
        "\n",
        "2. Evans, L. C. (1983). An introduction to mathematical optimal control theory version 0.2. Lecture notes available at http://math.berkeley.edu/~evans/control.course.pdf .\n",
        "\n",
        "3. Sutton, R. S., & Barto, A. G. (1998). Introduction to reinforcement learning (Vol. 135). Cambridge: MIT press.\n",
        "\n",
        "4. Balakrishnan, K. (2020). TensorFlow Reinforcement Learning Quick Start Guide. Packt Publishing Ltd. "
      ]
    },
    {
      "cell_type": "markdown",
      "metadata": {
        "id": "RZM-whkq6_-l",
        "colab_type": "text"
      },
      "source": [
        "***\n",
        "# ATARI\n",
        "***"
      ]
    },
    {
      "cell_type": "markdown",
      "metadata": {
        "id": "P30EjumneIFl",
        "colab_type": "text"
      },
      "source": [
        "![alt text](https://upload.wikimedia.org/wikipedia/commons/thumb/3/3b/Atari_logo.svg/1280px-Atari_logo.svg.png)"
      ]
    },
    {
      "cell_type": "markdown",
      "metadata": {
        "id": "odNaDE1zyrL2",
        "colab_type": "text"
      },
      "source": [
        "Este cuaderno reproduce un proyecto de Aprendizaje Reforzado cuyo alcance es:\n",
        "- Implementar un emulador del juego Atari usando `gym`.\n",
        "- Explorar el preprocesamiento de datos en tareas de este tipo de aprendizaje, en este caso para el juego Atari.\n",
        "- Explorar el algoritmo Q-learning.\n",
        "- Implementar DQN usando TensorFlow y visualizar el entrenamiento.\n",
        "\n",
        "\n"
      ]
    },
    {
      "cell_type": "markdown",
      "metadata": {
        "id": "sYQiEOHxAVAK",
        "colab_type": "text"
      },
      "source": [
        "## Intuición y Matemáticas detrás de escenas"
      ]
    },
    {
      "cell_type": "markdown",
      "metadata": {
        "id": "b4vQR2qc140M",
        "colab_type": "text"
      },
      "source": [
        "### ¿Qué es el Aprendizaje Reforzado?"
      ]
    },
    {
      "cell_type": "markdown",
      "metadata": {
        "id": "rmq6FAGrxuUe",
        "colab_type": "text"
      },
      "source": [
        "En este tipo de machine learning, se tiene un **agente** que se refiere al algoritmo/modelo que aprende una tarea específica.\n",
        "\n",
        "El agente aprende principalmente al recibir una **señal de recompensa**, que es un escalar que indica que tan bien el agente está realizando la tarea.\n",
        "\n",
        "Suponga que tenemos un agente cuya tarea es controlar el movimiento de caminar de un robot. El agente recibirá una recompensa positiva si logra hacer caminar el robot al destino fijado y recompensa negativa si se cae o no camina en dirección del destino.\n",
        "\n",
        "Además, estas señales de recompensa se retornan como consecuencia de una serie de **acciones** que el agente realiza; esto a diferencia de como se retribuye la señal en un modelo de aprendizaje supervisado, en el cual se hace inmediatamente se entrena el modelo. Las acciones son simplemente esas opciones disponibles que tiene el agente para hacer en el **ambiente**. El ambiente se refiere al mundo en el que el agente vive y se encarga principalmente de retornar las señales de recompensa al agente. Las acciones del agente normalmente están condicionadas a lo que el agente percibe del ambiente. Lo que el agente percibe se concibe como la **observación** o el **estado** del ambiente. \n",
        "\n",
        "Nota: Lo que distingue el aprendizaje reforzado de otros paradigmas es que las acciones que realiza el agente pueden alterar el ambiente y sus respuestas subsecuentes."
      ]
    },
    {
      "cell_type": "markdown",
      "metadata": {
        "id": "4tkjbBvZ2O1C",
        "colab_type": "text"
      },
      "source": [
        "#### Ejemplo: Space Invaders de Atari"
      ]
    },
    {
      "cell_type": "markdown",
      "metadata": {
        "id": "G9HMIoQD2Ut_",
        "colab_type": "text"
      },
      "source": [
        "En este caso el agente tiene como tarea jugar **Space Invaders**, el juego de Arcade Atari 2600. El ambiente es el juego como tal y la lógica que este tiene en sus especificaciones. Durante el juego, el agente consulta al ambiente para hacer una observación (que es equivalente a tener un estado). Aquí la observación es un array de tamaño $(210,160,3)$, que coincide  con la pantalla del juego que muestra la nave del agente, los enemigos, el punntaje y cualquier proyectil. Basado en esta observación, el agente realiza algunas acciones, que pueden incluir el moverse a la izquierda o derecha, disparar un laser o quedarse quieto. El ambiente recibe la acción del agente como *input* y hace los respectivos *updates* al estado.\n",
        "\n",
        "Por ejemplo, si el laser toca una nave enemiga, se remueve del juego. Si el agente decide moverse a la izquierda, el juego hará el update de cambiar las coordenadas de acuerdo a esto. Este proceso se repite hasta que se alcanza **estado terminal**, un estado que representa el final de una sucesión. En Space Invaders, el estado terminal se alcanza cuando la nave del agente es destruida, y el juego subsecuentemente retorna el puntaje que lleva, que se calcula con base en el número de naves enemigas que se destruyeron.\n",
        "\n",
        "Nota: Algunos ambientes no tienen estados terminales, como el mercado de acciones. Estos siguen andando mientras existan."
      ]
    },
    {
      "cell_type": "markdown",
      "metadata": {
        "id": "fsfJ7tC95ueQ",
        "colab_type": "text"
      },
      "source": [
        "#### Resumen de términos  "
      ]
    },
    {
      "cell_type": "markdown",
      "metadata": {
        "id": "NRVC7Irm53kl",
        "colab_type": "text"
      },
      "source": [
        "Término | Descripción | Ejemplos\n",
        "--- | --- | ---\n",
        "Agente | Un algoritmo/modelo que aprende una tarea específica. | Carros Self-Driving, Robots que caminan, **jugador de video juegos**. \n",
        "Ambiente | El mundo en el que el agente actúa. Es responsable de controlar los que el agente percibe y provee la retroalimentación sobre que tan bien el agente realiza la tarea. | El camino sobre el que anda el carro, **un video juego**, el mercado de las acciones.\n",
        "Acción | La decisión que toma el agente en un ambiente, usualmente depende de lo que el agente percibe | Dirigir un carro, comprar o vender una acción, **disparar un laser de la nave que el agente controla**.\n",
        "Señal de recompensa| Un escalar que indica que tan bien el agente está realizando una tarea.| **El puntaje de Space Invaders**, ROI de una compra de acción, distancia recorrida por un robot que intenta caminar.\n",
        "Observación/Estado| Una descripción de el ambiente tal como la percibe el agente | Video desde una cámara, **la pantalla del juego**, estadísticas del mercado de acciones.\n",
        "Estado terminal|Un estado en el que el agente no puede realizar más acciones.| Llegar al final de un laberinto, **la nave del agente en Space Invaders es destruida**."
      ]
    },
    {
      "cell_type": "markdown",
      "metadata": {
        "id": "e1WhjnhSEwS_",
        "colab_type": "text"
      },
      "source": [
        "Formalmente, miremos que sucede en el tiempo $t$ con un agente $P$ y un ambiente $E$:\n",
        "1. $P$ consulta una observación $s_t$ de $E$. \n",
        "2. $P$ decide tomar una acción $a_t$ basada en la observación $s_t$.  \n",
        "3. $E$ recibe $a_t$ y retorna una recompensa $r_t$ basado en la acción.\n",
        "4. $P$ recibe $r_t$.\n",
        "5. $E$ actualiza $s_t$ a $s_{t+1}$  basado en $a_t$  y otros factores."
      ]
    },
    {
      "cell_type": "markdown",
      "metadata": {
        "id": "uZ5jG0mYH6rT",
        "colab_type": "text"
      },
      "source": [
        "Ahora, ¿De qué manera el ambiente calcula $r_t$ y $s_{t+1}$?\n",
        "\n",
        "Para esto el ambiente usualmente tiene su propio algoritmo que calcula estos valores basado en numerosos *inputs/factors*, incluyendo la acción que el agente realiza.\n",
        "A continuación, vamos a discutir en mayor detalle el mayor protagonista de cada problema de aprendizaje reforzado- el agente."
      ]
    },
    {
      "cell_type": "markdown",
      "metadata": {
        "id": "8u4oCx-kLSvI",
        "colab_type": "text"
      },
      "source": [
        "#### El Agente"
      ]
    },
    {
      "cell_type": "markdown",
      "metadata": {
        "id": "Q1aqzaYcLxIb",
        "colab_type": "text"
      },
      "source": [
        "El objetivo del agente de aprendizaje reforzado es aprender a desempeñar una tarea bien en un ambiente. Matemáticamente, esto significa que queremos maximizar la recompensa acumulada $R$, que se expresa así:\n",
        "\n",
        "$R= r_0+\\gamma^1r_1+\\cdots+\\gamma^tr_t$\n",
        "\n",
        "En donde simplemente calculamos una suma ponderada de la recompensa recibida en cada tiempo $t$. $\\gamma$ se llama un **factor de descuento**, y es un escalar que toma valores entre $0$ y $1$. La idea detrás de este factor es tal que a mayor tiempo transcurrido tiene la recompensa, menor valor tiene en R. Esto refleja también la perspectiva en las recompensas del mundo real, en la que preferimos recibir $100.000$ COP ahora *vs.* en un año. Ya que el valor de la recompensa puede ser mayor cuando estamos más cerca del presente. \n",
        "\n",
        "Debido a que la mecánica del ambiente no es completamente observable para el agente, este último debe ganar información al tomar acciones y observar como el ambiente reacciona a estas. Y de esta manera los humanos aprender a desempeñar sus tareas a lo largo de la vida.\n",
        "\n",
        "Supongamos que estamos aprendiendo a jugar ajedrez. Si bien no tenemos todos los movimiento posibles guardados en memoria o no sabemos como jugará nuestro oponente, podemos mejorar nuestra competencia con el tiempo. En particular, podemos llegar a ser competentes en lo siguiente: \n",
        "\n",
        "- Aprender como reaccionar a un movimiento que hace nuestro oponente.\n",
        "- Evaluar que tan buena es nuestra posición para ganar el juego.\n",
        "- Predecir que hará nuestro oponente en la siguiente jugada y usar esto para decidir nuestro movimienot actual.\n",
        "- Entender como jugarían los jugadores en general en una situación en la que nos encontramos en el momento.\n",
        "\n",
        "De hecho, los agentes de aprendizaje reforzado pueden aprender a hacer cosas similares. En particular, un agente está compuesto de múltiples funciones y modelos para asistir su toma de decisión. Existen tres componentes que los agentes pueden tener: \n",
        "- Una **política**\n",
        "- Una **función de valor**\n",
        "- Un **modelo**"
      ]
    },
    {
      "cell_type": "markdown",
      "metadata": {
        "id": "IjvLYZEISzHN",
        "colab_type": "text"
      },
      "source": [
        "#### La *política* del *agente*"
      ]
    },
    {
      "cell_type": "markdown",
      "metadata": {
        "id": "OYZ4piW-TYbT",
        "colab_type": "text"
      },
      "source": [
        "Una **política** es un algoritmo o un conjunto de reglas que describe como un agente toma sus decisiones. Un ejemplo de una, puede ser la estrategia que un inversionista usa para invertir en sus acciones, donde este compra una acción cuando los precios bajan y la vende cuando los precios suben.\n",
        "\n",
        "Formalmente, una política es una función, denotada por $\\pi$ que mapea un estado $s_t$ a una acción $a_t$:\n",
        "\n",
        "$\\pi(s_t)=a_t$\n",
        "\n",
        "Lo cuál significa que el agente decide su acción tomando en cuenta su estado actual. Esta función puede representar muchas cosas, en la medida en que reciba un estado como input y una acción como output, sea una tabla, un grafo, o un clasificador de machine learning.\n",
        "\n",
        "Siendo estrictos en la manera que definimos la política, esta resulta ser **determinística** y no en todas las aplicaciones es así. Es por esto que aparece una manera más general de definir la política y es de manera **estocástica** donde esta tiene como output una distribución de probabilidad sobre el conjunto de acciones posibles en un estado:\n",
        "\n",
        "$\\pi(a_t|s_t)=P(a_t|s_t)$\n",
        "\n",
        "donde $\\pi(a_t| s_t)$ es un vector de probabilidades normalizado sobre el conjunto de posibles acciones dado un estado. Aplicando al ejemplo de Atari este concepto de política, veamos la siguiente imagen.\n",
        "\n"
      ]
    },
    {
      "cell_type": "code",
      "metadata": {
        "id": "kBVV5pjotU5N",
        "colab_type": "code",
        "colab": {},
        "cellView": "form"
      },
      "source": [
        "#@title\n",
        "from google.colab import files\n",
        "from IPython.display import Image\n",
        "uploaded = files.upload()"
      ],
      "execution_count": 0,
      "outputs": []
    },
    {
      "cell_type": "code",
      "metadata": {
        "id": "DxLQDHjYts7K",
        "colab_type": "code",
        "colab": {
          "base_uri": "https://localhost:8080/",
          "height": 317
        },
        "cellView": "form",
        "outputId": "d8b31590-d5da-4707-f1b5-acd67b616c43"
      },
      "source": [
        "#@title\n",
        "Image('eb108444-97b9-4201-9aff-49ced33c3309.jpg', width = 600)"
      ],
      "execution_count": 5,
      "outputs": [
        {
          "output_type": "execute_result",
          "data": {
            "image/jpeg": "[encoded data removed]",
            "text/plain": [
              "<IPython.core.display.Image object>"
            ]
          },
          "metadata": {
            "tags": [],
            "image/jpeg": {
              "width": 600
            }
          },
          "execution_count": 5
        }
      ]
    },
    {
      "cell_type": "markdown",
      "metadata": {
        "id": "m3oLIem3lDQO",
        "colab_type": "text"
      },
      "source": [
        "Imagen: Como la política mapea el estado del juego (la pantalla) a las acciones (probabilidades)\n"
      ]
    },
    {
      "cell_type": "markdown",
      "metadata": {
        "id": "D5aYMI9IS-uB",
        "colab_type": "text"
      },
      "source": [
        "#### La *función de valor* del agente"
      ]
    },
    {
      "cell_type": "markdown",
      "metadata": {
        "id": "LlRjH-jBmC0l",
        "colab_type": "text"
      },
      "source": [
        "El segundo componente que un agente puede tener es la **función de valor**. Como se mencionó en la introducción, es útil evaluar la posición, si es buena o mala, en un estado dado. En una partida de ajedrez, a un jugador le gustaría saber la verosimilitud de que va a ganar dado un estado del tablero. Un agente navegando un laberinto le gustaría saber que tan cerca está de llegar a su destino. La idea es que la función de valor quiere satisfacer los propósitos anteriores, ya que *predice el valor esperado de recompensa que un agente recibiría en un estado dado*. En otras palabras, mide que tan deseable es para el agente, su estado actual.\n",
        "\n",
        "Formalmente, la función de valor toma un estado y una política como input y retorna un valor escalar representando la esperanza de la recompensa acumulada:\n",
        "\n",
        "$v(s,\\pi)= E[R|s,\\pi]=E[r_0+\\gamma^1r_1+\\cdots+\\gamma^tr_t|s,\\pi]$\n",
        "\n",
        "Ahora, ¿De qué manera esta función ayuda al agente a desempeñar una tarea bien, a parte de informar sobre que tan deseable es estar en un estado dado? Como veremos luego, las funciones de valor juegan un papel importante en predecir que tan bueno será el tomar una serie de acciones antes de que sean tomadas por el agente. Esto es similar a que los jugadores de ajedrez se imaginen qué tan bien una secuencia de acciones futuras funcionará para mejorar sus posibilidades de ganar. Para esto, el agente también necesita tener un entendimiento de como el ambiente opera. Y este entendimiento, resulta en el tercer componente de un agente que es, **el modelo**.\n"
      ]
    },
    {
      "cell_type": "markdown",
      "metadata": {
        "id": "UspD7gneTECy",
        "colab_type": "text"
      },
      "source": [
        "#### El *modelo* del agente"
      ]
    },
    {
      "cell_type": "markdown",
      "metadata": {
        "id": "bmdifE3wsBRV",
        "colab_type": "text"
      },
      "source": [
        "Anteriormente, se discutió como el agente no conoce completamente el ambiente. En otras palabras, el agente usualmente no tiene una idea de como se ve internamente el algoritmo completo del ambiente.\n",
        "\n",
        "El agente necesita interactuar con el ambiente para ganar información y aprender como maximizar el valor esperado de la recompensar acumulada. Sin embargo, es posible para el agente tener una réplica interna, o un modelo, de el ambiente. El agente puede usar el modelo para predecir de qué manera el ambiente reaccionaría a alguna acción en un estado dado. Un modelo en el mercado de las acciones, por ejemplo, tiene la tarea de predecir como los precios serán en un futuro. Si el modelo es preciso, el agente puede entonces usar su función de valor para evaluar que tan deseable es el futuro. \n",
        "\n",
        "Formalmente, el modelo puede ser representado por una función $M$ que calcula la probabilidad del siguiente estado dado el estado actual y un acción: (MONTENEGRO?)\n",
        "\n",
        "$M(a_t,s_t)=P(s_{t+1}|s_t,a_t)$\n",
        "\n",
        "En otro escenarios, el modelo del ambiente puede ser usado para enumerar posibles estados futuros. Esto es común en juegos basados por turno, tales como el ajedrez o triki, donde las reglas y alcance de las posibles acciones están claramente definidas. Normalmente se hacen árboles de para ilustrar estas posibles sucesiones de acciones y estados de juegos basados en turno:\n"
      ]
    },
    {
      "cell_type": "markdown",
      "metadata": {
        "id": "OZGxlsTVytR1",
        "colab_type": "text"
      },
      "source": [
        "![alt text](https://learning.oreilly.com/library/view/python-reinforcement-learning/9781788991612/assets/873f8b59-9dd2-4fc6-830a-9c5fd62198f9.png)\n",
        "\n",
        "Imagen: Un modelo usando su valor de función para evaluar sus posibles movimientos."
      ]
    },
    {
      "cell_type": "markdown",
      "metadata": {
        "id": "DMiWAmtx0Vxw",
        "colab_type": "text"
      },
      "source": [
        "En el ejemplo anterior del juego triki, $M(s_t,a_t)$ denota los posibles estados que al tomar una acción $a_t$ (representada en la imagen como un círculo azul con rayas dentro) podría tomar en un estado dado $s_t$. Más aún, podemos calcular el valor de cada estado usando el valor de la *función de valor*. Los estados intermedios o de abajo en la imagen llevarían a obtener un valor alto ya que el agente estaría a un paso de ganar, caso contrario al caso de arriba ya que aquí se debe preocupar de que el oponente gane.\n"
      ]
    },
    {
      "cell_type": "markdown",
      "metadata": {
        "id": "6XeeF2w-4ruc",
        "colab_type": "text"
      },
      "source": [
        "#### Resumen de términos"
      ]
    },
    {
      "cell_type": "markdown",
      "metadata": {
        "id": "xFkry3Xl41K7",
        "colab_type": "text"
      },
      "source": [
        "Término | Descripción | Output\n",
        "--- | --- | ---\n",
        "Política | Algoritmo/función que retorna decisiones que el agente toma. | Un escalar único (decisión) (política determinística) o un vector de probabilidades sobre posibles acciones (política estocástica)\n",
        "Función de Valor |  Función que describe que tan bueno o malo es un estado dado. | Un valor escalar que representa el valor esperado de la recompensa acumulada.\n",
        "Modelo | Una representación del ambiente que tiene el agente, que predice como reaccionará el ambiente a las acciones que el agente realiza.| La probabilidad del próximo estado dados una acción y el estado actual, o una enumeración de posibles estados dadas las reglas del ambiente.\n",
        "\n",
        "Finalmente, usaremos estos conceptos para aprender uno de los marcos conceptuales fundamentales en aprendizaje reforzado: los **Procesos de Decisión de Markov**.\n"
      ]
    },
    {
      "cell_type": "markdown",
      "metadata": {
        "id": "VYGfJ6m6AJHh",
        "colab_type": "text"
      },
      "source": [
        "#### Procesos de Decisión de Markov (PDM)"
      ]
    },
    {
      "cell_type": "markdown",
      "metadata": {
        "id": "SAsXm35YA5f7",
        "colab_type": "text"
      },
      "source": [
        "Un **proceso de decisión de Markov** es un marco usado para representar el **ambiente** en un problema de aprendizaje reforzado. Este se puede representar gráficamente mediante un grafo con arcos dirigidos. Cada nodo representa un posible estado en el ambiente, y cada arco apuntando a un estado representa la acción que se puede tomar en el estado actual. \n",
        "\n",
        ">*Formalizaremos el problema del aprendizaje reforzado usando ideas de la Teoría de Sistemas Dinámicos, específicamente, el **control optimal de un proceso de decisión de Markov parcialmente-conocido**.*\n",
        "\n",
        "\n"
      ]
    },
    {
      "cell_type": "markdown",
      "metadata": {
        "id": "Hy7G5BvlcAPY",
        "colab_type": "text"
      },
      "source": [
        "Consideremos el siguiente ejemplo:\n",
        "\n",
        "![alt text](https://learning.oreilly.com/library/view/python-reinforcement-learning/9781788991612/assets/3689b1c6-d71e-44ff-b5bf-e7ddf2ac33aa.png)\n",
        "\n",
        "Imagen: Un Proceso de Decisión de Markov."
      ]
    },
    {
      "cell_type": "markdown",
      "metadata": {
        "id": "_-b6ES_ZclHs",
        "colab_type": "text"
      },
      "source": [
        "El anterior PDM representa una jornada típica de un programador en un día. Cada círuclo representa un estado particular en el cual el programador puede estar, y en particular el estado azul (Wake up) es estado inicial (o el estado en $t=0$ que está el agente), y el estado naranja (Publish Code) denota el estado terminal. Cada estado tiene una recompensa que está asociada, y entre más alta sea, más deseable será.\n",
        "\n",
        "Además una representación del grafo del ejemplo es su **matriz de adyacencia**:\n"
      ]
    },
    {
      "cell_type": "markdown",
      "metadata": {
        "id": "FxNNibNqf4H7",
        "colab_type": "text"
      },
      "source": [
        "State/Action | Wake Up | Netflix | Code and Debug | Nap | Deploy | Sleep\n",
        "--- | --- | --- | --- | --- | --- | ---\n",
        "Wake Up | N/A | -2 | -3 | 0 | N/A | N/A\n",
        "Netflix | N/A | -2 | N/A | N/A | N/A | N/A\n",
        "Code and Debug | N/A | N/A | N/A | 1 | 10 | 3\n",
        "Nap | 0 | N/A | N/A | N/A | N/A | N/A\n",
        "Deploy | N/A | N/A | N/A | N/A | N/A | 3\n",
        "Sleep | N/A | N/A | N/A | N/A | N/A | N/A\n",
        "\n"
      ]
    },
    {
      "cell_type": "markdown",
      "metadata": {
        "id": "imIPes9wCVYK",
        "colab_type": "text"
      },
      "source": [
        "La columna de la izquierda representa los posibles estados y la primera fila representan las posibles acciones. N/A siginifa que la acción no se puede realizar estan en el estado dado. Este sistema básicamente representa las decisiones que un programador puede realizar en un día.\n",
        "\n",
        "Cuando el programador se levanta (*Wake up*), este puede decidir ir a trabajar (*Code and debug the code*) o ir a ver películas (*Netflix*). Nótese que la recompensa por ver Netflix es más alta que ir a trabajar. Para el programador en cuestión, ver Netflix resulta ser una actividad mejor recompensada, mientras que hacer código y debugging de este (que se espera no sea la misma idea del lector). Sin embargo, ambas acciones nos llevan a obtener recompensas negativas, pero recordemos que nuestro objetivo es maximizar la recompensa acumulada. Si el programador decide ver Netflix, se quedaría atrapado en un bucle infinito, que a la final termina debilitando la recompensa acumulada. Por otro lado, más estados con mejor recompensa estarán disponibles para el programador si se decide por trabajar.  "
      ]
    },
    {
      "cell_type": "markdown",
      "metadata": {
        "id": "R171E7y0IYMS",
        "colab_type": "text"
      },
      "source": [
        "Examinemos las posibles trayectorias, que son sucesiones de acciones que el programador puede tomar:\n",
        "- Wake Up | Netflix | Netflix | ...\n",
        "- Wake Up | Code and Debug | Nap | Wake Up | Code and Debug | Nap | ...\n",
        "- Wake Up | Code and Debug | Sleep\n",
        "- Wake Up | Code and Debug | Deploy | Sleep\n",
        "\n",
        "La primera y segunda trayectoria representan bucles infinitos. Calculemos la recompensa acumulada para cada una, donde hacemos $\\gamma = 0.9$:\n",
        "- $R = 0+0.9\\times(-2)+0.9^2\\times(-2)+0.9^3\\times(-2)\\cdots<0$\n",
        "- $R = 0+0.9\\times(-3)+0.9^2\\times(1)+0.9^3\\times(0)+0.9^4\\times(-3)+0.9^5\\times(1)\\cdots<0 $\n",
        "- $R = 0+0.9\\times(-3)+0.9^2\\times(3)=-0.27$\n",
        "- $R = 0+0.9\\times(-3)+0.9^2\\times(10)+0.9^3\\times(3)=7.587$\n",
        "\n",
        "Podemos ver que para la primera y segunda trayectoria, a pesar de no tener un estado terminal, nunca tendremos recompensas positivas. La cuarta trayectoria nos brinda la recompensa acumulada más alta.\n",
        "\n"
      ]
    },
    {
      "cell_type": "markdown",
      "metadata": {
        "id": "VESiC1W2NIra",
        "colab_type": "text"
      },
      "source": [
        "Lo que hemos calculado entonces son las funciones de valor para cuatros políticas que un programador puede tomar en un día. Recordemos que la función de valor es la esperanza de la recompensa acumulada empezando por un estado dado y siguiente un política. \n",
        "\n",
        "Hemos observado cuatro posibles políticas y evaluado como cada una de ellas nos lleva a obtener una recompensa acumulada distinta, ejercicio conocido como **evaluación de política**.\n",
        "\n",
        "Más aún, las ecuaciones que hemos usado para calcular las recompensas esperadas son conocidas como **Ecuaciones de esperanza de Bellman**. Las ecuaciones de Bellman forman un conjunto de ecuaciones usadas para evaluar y mejorar políticas y funciones de valor para finalmente ayudar a un agente a desempeñar de mejor manera una tarea. \n",
        "\n",
        "Para ver más sobre estas ecuaciones fundamentales en el estudio de aprendizaje reforzado ver la referencia [3], al inicio de este cuaderno.\n"
      ]
    },
    {
      "cell_type": "markdown",
      "metadata": {
        "id": "gSX1lIH8PeNw",
        "colab_type": "text"
      },
      "source": [
        "#### ¿Qué sigue ahora?"
      ]
    },
    {
      "cell_type": "markdown",
      "metadata": {
        "id": "4g6BwRi_PjWE",
        "colab_type": "text"
      },
      "source": [
        "Ahora que hemos pasado por términos y conceptos clave de aprendizaje reforzado, el lector se preguntará por cómo enseñar a un agente de aprendizaje reforzado a maximizar su recompensa, o en otras palabras, tomando el ejemplo del PDM del programador, que sepa que la cuarta trayectoria es la mejor. \n",
        "\n",
        "Para nuestro proyecto con ATARI trabajaremos en la solución a este interrogante usando **Aprendizaje Profundo**. Para lo cuál haremos una sección introduciendo el tema. "
      ]
    },
    {
      "cell_type": "markdown",
      "metadata": {
        "id": "wRRYttZuRCvs",
        "colab_type": "text"
      },
      "source": [
        "### ¿Qué es el Aprendizaje Profundo?"
      ]
    },
    {
      "cell_type": "markdown",
      "metadata": {
        "id": "pSeJfqYXR0_G",
        "colab_type": "text"
      },
      "source": [
        "Este tipo de aprendizaje se ha convertido muy popular en los campos de estadística, ciencias de la computación y el machine learning. Gracias al aumento de recursos de máquina y datos, los algoritmos en este campo han sobrepasado los resultados de sus pasados estados del arte."
      ]
    },
    {
      "cell_type": "markdown",
      "metadata": {
        "id": "HfYRibxwAi--",
        "colab_type": "text"
      },
      "source": [
        "## Infrastructura y Dependecias "
      ]
    },
    {
      "cell_type": "markdown",
      "metadata": {
        "id": "7S0W8ek8Ax_5",
        "colab_type": "text"
      },
      "source": [
        "## Aprendizaje de Máquina en Acción"
      ]
    },
    {
      "cell_type": "markdown",
      "metadata": {
        "id": "bG2I7nyf3gGt",
        "colab_type": "text"
      },
      "source": [
        "### Entendamos el archivo model.py"
      ]
    },
    {
      "cell_type": "markdown",
      "metadata": {
        "id": "ffmVFPiH3gGu",
        "colab_type": "text"
      },
      "source": [
        "#### Importamos los paquetes requeridos\n"
      ]
    },
    {
      "cell_type": "code",
      "metadata": {
        "id": "8YpqJGec3gGv",
        "colab_type": "code",
        "colab": {}
      },
      "source": [
        "import numpy as np\n",
        "import sys\n",
        "import os\n",
        "import random\n",
        "import tensorflow as tf"
      ],
      "execution_count": 0,
      "outputs": []
    },
    {
      "cell_type": "markdown",
      "metadata": {
        "id": "J5YFq6oj3gGz",
        "colab_type": "text"
      },
      "source": [
        "#### Escogemos una red pequeña (smaller) o grande (bigger)"
      ]
    },
    {
      "cell_type": "markdown",
      "metadata": {
        "id": "cudb1dS73gG0",
        "colab_type": "text"
      },
      "source": [
        "Usaremos dos arquitecturas de red neuronal, una llamda `bigger` y la otra llamada `smaller`. Usaremos la red `bigger` por ahora; si se quiere usar la otra opción para comparar rendimientos:"
      ]
    },
    {
      "cell_type": "code",
      "metadata": {
        "id": "5ys5_Ypn3gG1",
        "colab_type": "code",
        "colab": {}
      },
      "source": [
        "NET = 'bigger' # 'smaller'"
      ],
      "execution_count": 0,
      "outputs": []
    },
    {
      "cell_type": "markdown",
      "metadata": {
        "id": "17o3IYMI3gG4",
        "colab_type": "text"
      },
      "source": [
        "#### Escogemos la función de pérdida (L2 o Huber)"
      ]
    },
    {
      "cell_type": "markdown",
      "metadata": {
        "id": "CZTX70Pr3gG4",
        "colab_type": "text"
      },
      "source": [
        "Para la función de pérdida del algoritmo Q-learning, podremos usar entre la pérdida `L2` o la de `huber`. Ambas opciones serán usadas en el resto del proyecto. Por ahora nos quedamos con `huber`:"
      ]
    },
    {
      "cell_type": "code",
      "metadata": {
        "id": "TJSNzrtV3gG5",
        "colab_type": "code",
        "colab": {}
      },
      "source": [
        "LOSS = 'huber' # 'L2'"
      ],
      "execution_count": 0,
      "outputs": []
    },
    {
      "cell_type": "markdown",
      "metadata": {
        "id": "U4P_84f53gG8",
        "colab_type": "text"
      },
      "source": [
        "#### Definimos los pesos de inicialización de la red"
      ]
    },
    {
      "cell_type": "markdown",
      "metadata": {
        "id": "Dvh5mT633gG8",
        "colab_type": "text"
      },
      "source": [
        "Especificaremos un inicializador de pesos para los pesos de la red. `tf.variance_scaling_initializer(scale = 2)` será usado para esta inicialización. Para el lector interesado, la inicialización con `tf.contrib.layers.xavier_initializer()` también se puede usar y se deja como comentario:"
      ]
    },
    {
      "cell_type": "code",
      "metadata": {
        "id": "HusXM0t53gG9",
        "colab_type": "code",
        "colab": {}
      },
      "source": [
        "init = tf.variance_scaling_initializer(scale = 2) # tf.contrib.layers.xavier_initializer()"
      ],
      "execution_count": 0,
      "outputs": []
    },
    {
      "cell_type": "markdown",
      "metadata": {
        "id": "39PfsbP93gHA",
        "colab_type": "text"
      },
      "source": [
        "#### Definimos la clase QNetwork()"
      ]
    },
    {
      "cell_type": "markdown",
      "metadata": {
        "id": "RDkeYeGJ3gHA",
        "colab_type": "text"
      },
      "source": [
        "Definiremos la clase `QNetwork()` como se resume enseguida. Tendrá un constructor `__init__` y las funciones `_build_model()`, `predict()` y `update()`. "
      ]
    },
    {
      "cell_type": "code",
      "metadata": {
        "id": "DjVKCOAL3gHB",
        "colab_type": "code",
        "colab": {}
      },
      "source": [
        "class QNetwork():\n",
        "    def __init__(self, scope=\"QNet\", VALID_ACTIONS=[0, 1, 2, 3]):\n",
        "        self.scope = scope\n",
        "        self.VALID_ACTIONS = VALID_ACTIONS\n",
        "        with tf.variable_scope(scope):\n",
        "            self._build_model()\n",
        "            \n",
        "    def _build_model(self):\n",
        "        # input placeholders; input is 4 frames of shape 84x84 \n",
        "        self.tf_X = tf.placeholder(shape=[None, 84, 84, 4], dtype=tf.uint8, name=\"X\")\n",
        "        # TD\n",
        "        self.tf_y = tf.placeholder(shape=[None], dtype=tf.float32, name=\"y\")\n",
        "        # action\n",
        "        self.tf_actions = tf.placeholder(shape=[None], dtype=tf.int32, name=\"actions\")\n",
        "\n",
        "        # normalize input\n",
        "        X = tf.to_float(self.tf_X) / 255.0\n",
        "        batch_size = tf.shape(self.tf_X)[0]\n",
        "\n",
        "#-------------\n",
        "        \n",
        "        if (NET == 'bigger'):\n",
        " \n",
        "           # bigger net\n",
        "\n",
        "           # 3 conv layers\n",
        "           conv1 = tf.contrib.layers.conv2d(X, 32, 8, 4, padding='VALID', activation_fn=tf.nn.relu, weights_initializer=winit)\n",
        "           conv2 = tf.contrib.layers.conv2d(conv1, 64, 4, 2, padding='VALID', activation_fn=tf.nn.relu, weights_initializer=winit)\n",
        "           conv3 = tf.contrib.layers.conv2d(conv2, 64, 3, 1, padding='VALID', activation_fn=tf.nn.relu, weights_initializer=winit)\n",
        "\n",
        "           # fully connected layers\n",
        "           flattened = tf.contrib.layers.flatten(conv3)\n",
        "           fc1 = tf.contrib.layers.fully_connected(flattened, 512, activation_fn=tf.nn.relu, weights_initializer=winit)\n",
        "\n",
        "\n",
        "        elif (NET == 'smaller'): \n",
        " \n",
        "           # smaller net\n",
        "   \n",
        "           # 2 conv layers\n",
        "           conv1 = tf.contrib.layers.conv2d(X, 16, 8, 4, padding='VALID', activation_fn=tf.nn.relu, weights_initializer=winit)\n",
        "           conv2 = tf.contrib.layers.conv2d(conv1, 32, 4, 2, padding='VALID', activation_fn=tf.nn.relu, weights_initializer=winit)\n",
        "\n",
        "           # fully connected layers\n",
        "           flattened = tf.contrib.layers.flatten(conv2)\n",
        "           fc1 = tf.contrib.layers.fully_connected(flattened, 256, activation_fn=tf.nn.relu, weights_initializer=winit)  \n",
        "#-------------         \n",
        "\n",
        "       \n",
        "\n",
        "        # Q(s,a)\n",
        "        self.predictions = tf.contrib.layers.fully_connected(fc1, len(self.VALID_ACTIONS), activation_fn=None, weights_initializer=winit)\n",
        "\n",
        "\n",
        "        action_one_hot = tf.one_hot(self.tf_actions, tf.shape(self.predictions)[1], 1.0, 0.0, name='action_one_hot')\n",
        "        self.action_predictions = tf.reduce_sum(self.predictions * action_one_hot, reduction_indices=1, name='act_pred')\n",
        " \n",
        "        if (LOSS == 'L2'):\n",
        "           # L2 loss\n",
        "           self.loss = tf.reduce_mean(tf.squared_difference(self.tf_y, self.action_predictions), name='loss')\n",
        "        elif (LOSS == 'huber'):\n",
        "           # Huber loss\n",
        "           self.loss = tf.reduce_mean(huber_loss(self.tf_y-self.action_predictions), name='loss')\n",
        "        \n",
        "\n",
        "        # optimizer \n",
        "        #self.optimizer = tf.train.RMSPropOptimizer(learning_rate=0.00025, momentum=0.95, epsilon=0.01)\n",
        "        self.optimizer = tf.train.AdamOptimizer(learning_rate=2e-5)\n",
        "        self.train_op = self.optimizer.minimize(self.loss, global_step=tf.contrib.framework.get_global_step())\n",
        "        \n",
        "    def predict(self, sess, s):\n",
        "        return sess.run(self.predictions, { self.tf_X: s})\n",
        "\n",
        "    def update(self, sess, s, a, y):\n",
        "        feed_dict = { self.tf_X: s, self.tf_y: y, self.tf_actions: a }\n",
        "        _, loss = sess.run([self.train_op, self.loss], feed_dict)\n",
        "        return loss"
      ],
      "execution_count": 0,
      "outputs": []
    },
    {
      "cell_type": "markdown",
      "metadata": {
        "id": "G3gbaaU43gHE",
        "colab_type": "text"
      },
      "source": [
        "Analicemos en detalle durante las siguientes subsecciones que hay dentro de la clase `QNetwork()`"
      ]
    },
    {
      "cell_type": "markdown",
      "metadata": {
        "id": "P1R-Y-j13gHF",
        "colab_type": "text"
      },
      "source": [
        "##### El constructor `__init__` "
      ]
    },
    {
      "cell_type": "markdown",
      "metadata": {
        "id": "fkBKUNJd3gHF",
        "colab_type": "text"
      },
      "source": [
        "```python\n",
        "class QNetwork():\n",
        "    def __init__(self, scope = 'QNet', VALID_ACTIONS = [0,1,2,3]):\n",
        "        self.scope = scope\n",
        "        self.VALID_ACTIONS = VALID_ACTIONS\n",
        "        with tf.variable_scope(scope):\n",
        "            self._build_model()      \n",
        "```  "
      ]
    },
    {
      "cell_type": "markdown",
      "metadata": {
        "id": "KXRVpzg23gHG",
        "colab_type": "text"
      },
      "source": [
        "##### La función `_build_model()`"
      ]
    },
    {
      "cell_type": "markdown",
      "metadata": {
        "id": "-juoNUy73gHH",
        "colab_type": "text"
      },
      "source": [
        "En la función `_build_model()`, primero definiremos los placeholders `tf_X`, `tf_Y` y `tf_actions`. Nótese que los frames de las imágenes son almacenados en un formato `uint8` en el replay del buffer para guardar memoria, y se normalizarán al convertirlos a `float` y luego dividiéndolos por $255.0$ para colocar el input `X` en el rango $(0,1)$:"
      ]
    },
    {
      "cell_type": "markdown",
      "metadata": {
        "id": "TXb5roow3gHH",
        "colab_type": "text"
      },
      "source": [
        "```python    \n",
        "    def _build_model(self):\n",
        "        # input placeholders; input is 4 frames of shape 84x84\n",
        "        self.tf_X = tf.placeholder(shape = [None,84,84,4], dtype = tf.float32, name = 'X')\n",
        "        # TD\n",
        "        self.tf_Y = tf.placeholder(shape = [None], dtype = tf.float32, name = 'y')\n",
        "        # actions \n",
        "        self.tf_actions = tf.placeholder(shape = [None], dtype = tf.int32, name = 'actions')\n",
        "        # normalize input \n",
        "        X = tf.to_float(self.tf_X)/255\n",
        "        batch_size = tf.shape(self.tf_X)[0]\n",
        "        \n",
        "```         "
      ]
    },
    {
      "cell_type": "markdown",
      "metadata": {
        "id": "9Ruh2Gbc3gHI",
        "colab_type": "text"
      },
      "source": [
        "Ahora definamos las **capas de convolución**: Como se mencionó, tenemos una opción para nuestra red `bigger` y otra `smaller`.\n",
        "\n",
        "La red `bigger` tiene $3$ capas convolucionales, seguida de $1$ capa completamente conectada.\n",
        "\n",
        "La red `smaller` tiene $2$ capas convolucionales, seguida de $1$ capa completamente conectada. \n",
        "\n",
        "Podemos definir las capas convolucionales en TensorFLow usando `tf.contrib.layers.conv2d()`, y capas completamente conectadas usando `tf.contrib.layers.fully_connected()`. Notemos que, luego de la última capa convolucional, tenemos que aplanar nuestro output antes de pasarlo a la capa completamente conectada, para lo cuál se usa `tf.contrib.layers.flatten()`. Usaremos el objeto `winit` como nuestro inicializador de pesos, que definimos anteriormente:   "
      ]
    },
    {
      "cell_type": "markdown",
      "metadata": {
        "id": "eQW67knb3gHI",
        "colab_type": "text"
      },
      "source": [
        "```python\n",
        "        if (NET == 'bigger'):\n",
        "            # bigger net\n",
        "            # 3 conv layers\n",
        "            conv1 = tf.contrib.layers.conv2d(X, 32, 8, 4, padding = 'VALID', activation_fn = tf.nn.relu, weights_initializer = winit)\n",
        "            conv2 = tf.contrib.layers.conv2d(conv1, 64, 4, 2, padding = 'VALID', activation_fn = tf.nn.relu, weights_initializer = winit)\n",
        "            conv3 = tf.contrib.layers.conv2d(conv2, 64, 3, 1, padding = 'VALID', activation_fn = tf.nn.relu, weights_initializer = winit)\n",
        "            #fully connected layers\n",
        "            flattened = tf.contrib.layers.flatten(conv3)\n",
        "            fc1 = tf.contrib.layers.fully_connected(flattened, 512, activation_fn = tf.nn.relu, weights_initializer = winit)\n",
        "        \n",
        "        elif (NET == 'smaller'):\n",
        "            # smaller net\n",
        "            # 2 conv layers\n",
        "            conv1 = tf.contrib.layers.conv2d(X, 16, 8, 4, padding = 'VALID', activation_fn = tf.nn.relu, weights_initializer = winit)\n",
        "            conv2 = tf.contrib.layers.conv2d(conv1, 32, 4, 2, padding = 'VALID', activation_fn = tf.nn.relu, weights_initializer = winit)\n",
        "            # fully connected layers\n",
        "            flattened = tf.contrib.layers.flatten(conv2)\n",
        "            fc1 = tf.contrib.layers.fully_connected(flattened, 256, activation_fn = tf.nn.relu, weights_initializer = winit)\n",
        "```"
      ]
    },
    {
      "cell_type": "markdown",
      "metadata": {
        "id": "HFSGMeoJ3gHJ",
        "colab_type": "text"
      },
      "source": [
        "Continuamos por definir la **capa completamente conectada**: Para terminar en la función `_build_model()`, tenemos una capa completamente conectada cuyo tamaño coincide con el número de posible de acciones, que se especifica mediante `len(self.VALID_ACTIONS)`. El output de esta capa se almacena en `self.predictions`, y representa $Q(s,a)$, y que vimos en la teoría de este cuaderno. \n",
        "\n",
        "Las acciones que pasamos a esta función, i.e., `self.tf_actions` debe ser convertida al formato one-hot, para lo cuál usamos `tf.one_hot()`. Nótese que el formato `one_hot` es una manera de representar el número de acción como un array binario con cero en todas las acciones, expecto por una acción, la cuál se almacena con un valor de `1.0`. \n",
        "\n",
        "Luego se multiplican las predicciones con las acciones en formato one-hot usando `self.predictions * action_one_hot`, y el resultado se suma usando `tf.reduce_sum()`; esa cantidad finalmente se almacena en la variable `self.action_predictions`:"
      ]
    },
    {
      "cell_type": "markdown",
      "metadata": {
        "id": "N_siGoRU3gHJ",
        "colab_type": "text"
      },
      "source": [
        "```python        \n",
        "        # Q(s,a)\n",
        "        self.predictions = tf.contrib.layers.fully_connected(fc1, len(self.VALID_ACTIONS), activation_fn = None, weights_initializer = winit)\n",
        "        action_one_hot = tf.one_hot(self.tf_actions, tf.shape(self.predictions)[1], 1.0, 0.0, name = 'action_one_hot')\n",
        "        self.action_predictions = tf.reduce_sum(self.predictions * action_one_hot, reduction_indices = 1, name = 'act_pred')\n",
        "```        "
      ]
    },
    {
      "cell_type": "markdown",
      "metadata": {
        "id": "7GQHnXFP3gHK",
        "colab_type": "text"
      },
      "source": [
        "Calculamos la **función de pérdida** para el entrenamiento de la red: Calculamos la función de pérdida para el entrenamiento de la red, que estará almacenada en `self.loss`, usando la pérdida L2 o la de Huber, que se determina usando la variable `LOSS`. \n",
        "\n",
        "Para la pérdida L2, usamos la función `tf.squared_difference()`, y para la de Huber usamos `huber_loss()` que pronto definiremos. La pérdida se promedia sobre muchas muestras, y para esto usaremos la función `tf.reduce_mean()`. \n",
        "\n",
        "Nótese que se calculará la pérdida entre el placeholder `tf_y` definido al comienzo y la variable `action_predictions` que obtuvimos en el último paso.\n"
      ]
    },
    {
      "cell_type": "markdown",
      "metadata": {
        "id": "uTvkv1zu3gHK",
        "colab_type": "text"
      },
      "source": [
        "```python        \n",
        "        if (LOSS == 'L2'):\n",
        "            # L2 loss\n",
        "            self.loss = tf.reduce_mean(tf.squared_difference(self.tf_y, self.action_predictions), name = 'loss')\n",
        "        elif (LOSS == 'huber'):\n",
        "            # Huber loss\n",
        "            self.loss = tf.reduce_mean(huber_loss(self.tf_y-self.action_predictions), name = 'loss')\n",
        "```            "
      ]
    },
    {
      "cell_type": "markdown",
      "metadata": {
        "id": "PCpUrZua3gHL",
        "colab_type": "text"
      },
      "source": [
        "Usando un **optimizador**: Usaremos el optimizador RMSprop o Adam, y lo almacenaremos en `self.optimizer`. Nuestro objetivo de aprendizaje estará en minimizar `self.loss`, y para esto usaremos `self.optimizer.minimize()`. Esta última cantidad está almacenada en `self.train_op`"
      ]
    },
    {
      "cell_type": "markdown",
      "metadata": {
        "id": "NMey_GFA3gHL",
        "colab_type": "text"
      },
      "source": [
        "```python        \n",
        "        # optimizer\n",
        "        # self.optimizer = tf.train.RMSPropOptimizer(learning_rate = 0.00025, momentum = 0.95, epsilon = 0.01)\n",
        "        self.optimizer = tf.train.AdamOptimizer(learning_rate = 2e-5)\n",
        "        self.train_op = self.optimizer.minimizer(self.loss, global_step = tf.contrib.framework.get_global_step())\n",
        "```"
      ]
    },
    {
      "cell_type": "markdown",
      "metadata": {
        "id": "8H-g16zS3gHL",
        "colab_type": "text"
      },
      "source": [
        "##### La función `predict()`"
      ]
    },
    {
      "cell_type": "markdown",
      "metadata": {
        "id": "IH-Gdcr83gHM",
        "colab_type": "text"
      },
      "source": [
        "En la función `predict()`, corremos la función `self.predictions` definida previamente usando `sess.run()` de TensorFlow, donde `sess` es el objeto de tipo `tf.Session()` que se para como parámetro a esta función.\n",
        "\n",
        "Los estados se pasan como argumentos en esta función en la variable `s`, el cuál se pasará al placeholder, `tf_X`: "
      ]
    },
    {
      "cell_type": "markdown",
      "metadata": {
        "id": "EyfeZcne3gHM",
        "colab_type": "text"
      },
      "source": [
        "```python\n",
        "    def predict(self, sess, s):\n",
        "        return sess.run(self.predictions, {self.tf_X: s})\n",
        "```"
      ]
    },
    {
      "cell_type": "markdown",
      "metadata": {
        "id": "nYeCKj-T3gHN",
        "colab_type": "text"
      },
      "source": [
        "##### La función `update()`"
      ]
    },
    {
      "cell_type": "markdown",
      "metadata": {
        "id": "mA4BQA-B3gHN",
        "colab_type": "text"
      },
      "source": [
        "Finalmente, en la función `update()`, llamaremos los objetos `train_op` y `loss`, y alimentamos el diccionario `a` en los placeholders involucrados en estas operaciones, el cuál llamamos `feed_dict`. Los estados estan almacenados en `s`, las acciones en `a`, y los targets en `y`: "
      ]
    },
    {
      "cell_type": "markdown",
      "metadata": {
        "id": "VuJR-f3M3gHO",
        "colab_type": "text"
      },
      "source": [
        "```python    \n",
        "    def update(self, sess, s, a, y):\n",
        "        feed_dict = {self.tf_X : s, self.tf_y : y, self.tf_actions : a}\n",
        "        _, loss = sess.run([self.train_op,self.loss], feed_dict)\n",
        "        return loss\n",
        "```"
      ]
    },
    {
      "cell_type": "markdown",
      "metadata": {
        "id": "oZ4DfWLM3gHP",
        "colab_type": "text"
      },
      "source": [
        "#### Definimos la función `huber_loss()`"
      ]
    },
    {
      "cell_type": "markdown",
      "metadata": {
        "id": "Soa82NnO3gHQ",
        "colab_type": "text"
      },
      "source": [
        "La función de pérdida de Huber es una mezcla entre las pérdidas L1 Y L2. Cuando el input es menor que $1$, toma el valor de la pérdida L2, y toma la L1 en otro caso:"
      ]
    },
    {
      "cell_type": "code",
      "metadata": {
        "id": "MfwETdG83gHQ",
        "colab_type": "code",
        "colab": {}
      },
      "source": [
        "# huber loss\n",
        "def huber_loss(x):\n",
        "    condition = tf.abs(x) < 1.0\n",
        "    output1 = 0.5 * tf.square(x)\n",
        "    output2 = tf.abs(x) - 0.5\n",
        "    return tf.where(condition, output1, output2)"
      ],
      "execution_count": 0,
      "outputs": []
    },
    {
      "cell_type": "markdown",
      "metadata": {
        "id": "illmIEdhdRsc",
        "colab_type": "text"
      },
      "source": [
        "### Usando el archivo funcs.py"
      ]
    },
    {
      "cell_type": "markdown",
      "metadata": {
        "id": "Qwt96xJ3dRsc",
        "colab_type": "text"
      },
      "source": [
        "#### Importamos los paquetes"
      ]
    },
    {
      "cell_type": "code",
      "metadata": {
        "id": "RDCClK08dRsd",
        "colab_type": "code",
        "colab": {}
      },
      "source": [
        "import numpy as np\n",
        "import sys\n",
        "import tensorflow as tf"
      ],
      "execution_count": 0,
      "outputs": []
    },
    {
      "cell_type": "markdown",
      "metadata": {
        "id": "CzikqWmmdRsg",
        "colab_type": "text"
      },
      "source": [
        "#### Definimos la clase `ImageProcess()`"
      ]
    },
    {
      "cell_type": "markdown",
      "metadata": {
        "id": "mLOn9dFBdRsh",
        "colab_type": "text"
      },
      "source": [
        "Ahora convertimos las imágenes de tamaño 210x160x3 y de tipo RGB del emulador de Atari a una imagen de escala de grises 84x84. Para esto, crearemos la clase `ImageProcess()` y usamos funciones de utilidad de TensorFlow, tales como:\n",
        "- `rgb_to_gray_scale()` para convertir la imagen de RGB a escala de grises \n",
        "- `crop_to_bounding_box()` para recortar la región de interes de una imagen\n",
        "- `resize_images()` para redimensionar la imagen a 84x84\n",
        "- `squeeze()` para remover una dimensión del input\n",
        "Finalmente incluímos una función `process()` a la clase y que se encargará de las operaciones que invocarán la función `sess.run()` en `self.output()`.\n",
        "\n",
        "Nótese que pasamos la variable `state` como un diccionario:"
      ]
    },
    {
      "cell_type": "code",
      "metadata": {
        "id": "nQVV_3padRsh",
        "colab_type": "code",
        "colab": {}
      },
      "source": [
        "# convert raw Atari RGB image of size 210x160x3 into 84x84 grayscale image\n",
        "class ImageProcess():\n",
        "    def __init__(self):\n",
        "        with tf.variable_scope(\"state_processor\"):\n",
        "            self.input_state = tf.placeholder(shape = [210, 160, 3], dtype = tf.uint8)\n",
        "            self.output = tf.image.rgb_to_grayscale(self.input_state)\n",
        "            self.output = tf.image.crop_to_bounding_box(self.output, 34, 0, 160, 160)\n",
        "            self.output = tf.image.resize_images(self.output, [84, 84], method=tf.image.ResizeMethod.NEAREST_NEIGHBOR)\n",
        "            self.output = tf.squeeze(self.output)\n",
        "    def process(self, sess, state):\n",
        "        return sess.run(self.output, { self.input_state: state })"
      ],
      "execution_count": 0,
      "outputs": []
    },
    {
      "cell_type": "markdown",
      "metadata": {
        "id": "OMTmcndVdRsk",
        "colab_type": "text"
      },
      "source": [
        "#### Copiamos los parámetros de una red a otra"
      ]
    },
    {
      "cell_type": "markdown",
      "metadata": {
        "id": "5n7gfn8VdRsl",
        "colab_type": "text"
      },
      "source": [
        "El siguiente paso consiste en escribir una función llamada `copy_model_parameters()`, la cuál tomará como argumentos:\n",
        "\n",
        "- `sess`: objeto de tipo `tf.Session()`\n",
        "- qnet1 : Red neuronal (en nuestro caso será Q-network)\n",
        "- qnet2 : Red neuronal (en nuestro caso será la red target) \n",
        "\n",
        "La función copiará los valores de parámetros de `qnet1` a `qnet2`: "
      ]
    },
    {
      "cell_type": "code",
      "metadata": {
        "id": "F7-m5JhhdRsl",
        "colab_type": "code",
        "colab": {}
      },
      "source": [
        "# copy params from qnet1 to qnet2\n",
        "def copy_model_parameters(sess, qnet1, qnet2):\n",
        "    q1_params = [t for t in tf.trainable_variables() if t.name.startswith(qnet1.scope)]\n",
        "    q1_params = sorted(q1_params, key=lambda v: v.name)\n",
        "    q2_params = [t for t in tf.trainable_variables() if t.name.startswith(qnet2.scope)]\n",
        "    q2_params = sorted(q2_params, key=lambda v: v.name)\n",
        "    update_ops = []\n",
        "    for q1_v, q2_v in zip(q1_params, q2_params):\n",
        "        op = q2_v.assign(q1_v)\n",
        "        update_ops.append(op)\n",
        "    sess.run(update_ops)"
      ],
      "execution_count": 0,
      "outputs": []
    },
    {
      "cell_type": "markdown",
      "metadata": {
        "id": "N62Pe_t6dRsp",
        "colab_type": "text"
      },
      "source": [
        "#### Definimos una función para usar la estrategia $\\epsilon$-greedy para explorar o aprovechar"
      ]
    },
    {
      "cell_type": "markdown",
      "metadata": {
        "id": "-9CkolIHdRsq",
        "colab_type": "text"
      },
      "source": [
        "Ahora escribiremos una función llamada `epsilon_greedy_policy()`, la cuál explorará o aprovechará dependiendo de si un número real aleatorio calculado usando la función de numpy `np.random.rand()` es menor que `epsilon`, parámetro descrito anteriormente en la estrategia $\\epsilon$-greedy.\n",
        "\n",
        "Para la exploración, todas las acciones son equiprobables con probabilidad igual a $\\frac{1}{\\text{num_actions}}$, donde `num_actions` es el número posible de acciones (que para nuestro caso en el juego Breakout es $4$).\n",
        "\n",
        "Y para aprovechar, usaremos la función `predict()` de la $Q$-Network para obtener los $Q$-valores e identificar que acciones tiene el valor de $Q$ más alto, todo esto mediante la función de numpy `np.argmax()`. La salida de esta función es la probabilidad de cada una de las acciones, que para el aprovechar, tendrá todos sus valores `0` excepto por la acción que tiene el valor de $Q$ más alto, para la cuál se le asignará un valor de `1.0`:"
      ]
    },
    {
      "cell_type": "code",
      "metadata": {
        "id": "fOWvNSiUdRsr",
        "colab_type": "code",
        "colab": {}
      },
      "source": [
        "# epsilon-greedy\n",
        "def epsilon_greedy_policy(qnet, num_actions):\n",
        "    def policy_fn(sess, observation, epsilon):\n",
        "        if (np.random.rand() < epsilon):  \n",
        "          # explore: equal probabiities for all actions\n",
        "          A = np.ones(num_actions, dtype=float) / float(num_actions)\n",
        "        else:\n",
        "          # exploit \n",
        "          q_values = qnet.predict(sess, np.expand_dims(observation, 0))[0]\n",
        "          max_Q_action = np.argmax(q_values)\n",
        "          A = np.zeros(num_actions, dtype=float)\n",
        "          A[max_Q_action] = 1.0 \n",
        "        return A\n",
        "    return policy_fn"
      ],
      "execution_count": 0,
      "outputs": []
    },
    {
      "cell_type": "markdown",
      "metadata": {
        "id": "6Q96PZOFdRsu",
        "colab_type": "text"
      },
      "source": [
        "#### La función `populate_replay_mem` para poblar la memoria de replay"
      ]
    },
    {
      "cell_type": "code",
      "metadata": {
        "id": "4efyKUeSdRsv",
        "colab_type": "code",
        "colab": {}
      },
      "source": [
        "# populate replay memory\n",
        "def populate_replay_mem(sess, env, state_processor, replay_memory_init_size, policy, epsilon_start, epsilon_end, epsilon_decay_steps, VALID_ACTIONS, Transition):\n",
        "    state = env.reset()\n",
        "    state = state_processor.process(sess, state)\n",
        "    state = np.stack([state] * 4, axis=2)\n",
        "\n",
        "    delta_epsilon = (epsilon_start - epsilon_end)/float(epsilon_decay_steps)\n",
        "\n",
        "    replay_memory = []\n",
        "\n",
        "    for i in range(replay_memory_init_size):\n",
        "        epsilon = max(epsilon_start - float(i) * delta_epsilon, epsilon_end)\n",
        "        action_probs = policy(sess, state, epsilon)\n",
        "        action = np.random.choice(np.arange(len(action_probs)), p=action_probs)\n",
        "\n",
        "        env.render()   \n",
        "        next_state, reward, done, _ = env.step(VALID_ACTIONS[action])\n",
        "\n",
        "        next_state = state_processor.process(sess, next_state)\n",
        "        next_state = np.append(state[:,:,1:], np.expand_dims(next_state, 2), axis=2)\n",
        "        replay_memory.append(Transition(state, action, reward, next_state, done))\n",
        "\n",
        "        if done:\n",
        "            state = env.reset()\n",
        "            state = state_processor.process(sess, state)\n",
        "            state = np.stack([state] * 4, axis=2)\n",
        "        else:\n",
        "            state = next_state\n",
        "    return replay_memory"
      ],
      "execution_count": 0,
      "outputs": []
    },
    {
      "cell_type": "markdown",
      "metadata": {
        "id": "OKiNKW0TdRsz",
        "colab_type": "text"
      },
      "source": [
        "Veamos acontinuación cada parte de la función"
      ]
    },
    {
      "cell_type": "markdown",
      "metadata": {
        "id": "vBccxDwmdRsz",
        "colab_type": "text"
      },
      "source": [
        "Escribiremos una función `populate_replay_mem` para poblar el replay buffer con un número de muestras `replay_memory_init_size`.\n",
        "\n",
        "Primero, reseteamos nuestro ambiente usando `env.reset()`. Luego procesamos el estado obtenido del reset. Necesitamos 4 frames para cada estado, ya que el agente por otra parte no tiene manera de determinar el movimiento de la paleta o su velocidad. \n",
        "\n",
        "Para el primer frame, apilamos cuatro copias. También calculamos `delta_epsilon`, que es la cantidad que decrece epsilon por time step. \n",
        "\n",
        "La memoria de replay se inicializa como una lista vacía:"
      ]
    },
    {
      "cell_type": "markdown",
      "metadata": {
        "id": "3fj0_D2wdRs0",
        "colab_type": "text"
      },
      "source": [
        "```python\n",
        "# populate replay memory\n",
        "def populate_replay_mem(sess, env, state_processor, replay_memory_init_size, policy, epsilon_start, epsilon_end, epsilon_decay_steps, VALID_ACTIONS, Transition):\n",
        "    state = env.reset()\n",
        "    state = state_processor.process(sess, state)\n",
        "    state = np.stack([state] * 4, axis=2)\n",
        "\n",
        "    delta_epsilon = (epsilon_start - epsilon_end)/float(epsilon_decay_steps)\n",
        "\n",
        "    replay_memory = []\n",
        "```"
      ]
    },
    {
      "cell_type": "markdown",
      "metadata": {
        "id": "7OyhAHwFdRs0",
        "colab_type": "text"
      },
      "source": [
        "Ahora calculamos las **probabilidades de acciones**: Lo que significa es que haremos, un loop por `replay_memory_init_size` cuatro veces, disminuiremos epsilon por `delta_epsilon`, y calcularemos las probabilidades de acciones, almacenadas en la variable `action_probs`, usando `policy()`, que fue pasada como argumento. \n",
        "\n",
        "La acción exacta de la variable `action_probs` se determina al muestrear usando `np.random.choice`. Luego, `env.render()` renderiza el ambiente, y luego pasamos la acción a `env.step()`, que dará como output:\n",
        "- el siguiente estado (almacenado en `next_state`)\n",
        "- la recompensa por la transición\n",
        "- si el episodio terminó o no (almacenado en `done`)\n",
        "\n",
        "Lo que vendrá ahora será **Append to replay buffer**: Ahora procesamos el siguiente estado y lo appendamos a la memoria de replay, la tupla `(state, actions, reward, next_state, done)`. Si el episodio terminó, entonces reseteamos el ambiente a una nueva ronda del juego, procesamos la imagen y apilamos cuatro veces, como hicimos hace un momento. Si el episodio no termina aún, el nuevo estado se convierte en el estado actual para el siguiente time step, y procedemos de esta manera hasta que el ciclo termine:"
      ]
    },
    {
      "cell_type": "markdown",
      "metadata": {
        "id": "0JfOqCcDdRs1",
        "colab_type": "text"
      },
      "source": [
        "```python\n",
        "for i in range(replay_memory_init_size):\n",
        "        epsilon = max(epsilon_start - float(i) * delta_epsilon, epsilon_end)\n",
        "        action_probs = policy(sess, state, epsilon)\n",
        "        action = np.random.choice(np.arange(len(action_probs)), p=action_probs)\n",
        "\n",
        "        env.render()   \n",
        "        next_state, reward, done, _ = env.step(VALID_ACTIONS[action])\n",
        "\n",
        "        next_state = state_processor.process(sess, next_state)\n",
        "        next_state = np.append(state[:,:,1:], np.expand_dims(next_state, 2), axis=2)\n",
        "        replay_memory.append(Transition(state, action, reward, next_state, done))\n",
        "\n",
        "        if done:\n",
        "            state = env.reset()\n",
        "            state = state_processor.process(sess, state)\n",
        "            state = np.stack([state] * 4, axis=2)\n",
        "        else:\n",
        "            state = next_state\n",
        "    return replay_memory\n",
        "```"
      ]
    },
    {
      "cell_type": "markdown",
      "metadata": {
        "id": "RpOFkTOkRZw6",
        "colab_type": "text"
      },
      "source": [
        "### Usando el archivo dqn.py "
      ]
    },
    {
      "cell_type": "markdown",
      "metadata": {
        "id": "uoisniaQRZw7",
        "colab_type": "text"
      },
      "source": [
        "#### Importamos los paquetes necesarios"
      ]
    },
    {
      "cell_type": "code",
      "metadata": {
        "id": "x6BX97JPRZw8",
        "colab_type": "code",
        "colab": {}
      },
      "source": [
        "import gym\n",
        "import itertools\n",
        "import numpy as np\n",
        "import os\n",
        "import random\n",
        "import sys\n",
        "import matplotlib.pyplot as plt\n",
        "import tensorflow as tf\n",
        "from collections import deque, namedtuple\n",
        "\n",
        "from model import *\n",
        "from funcs import *"
      ],
      "execution_count": 0,
      "outputs": []
    },
    {
      "cell_type": "markdown",
      "metadata": {
        "id": "D3cGyt7ORZxA",
        "colab_type": "text"
      },
      "source": [
        "#### Set el juego y escogemos acciones válidas"
      ]
    },
    {
      "cell_type": "markdown",
      "metadata": {
        "id": "J_e5r-AYRZxB",
        "colab_type": "text"
      },
      "source": [
        "Ahora haremos el set de nuestro juego. Escojamos el juego `BreakoutDeterministic-v4`, que es una versión reciente de Breakout v0. Este juego tiene 4 acciones, enumeradas de 0 a 3 y representan:\n",
        "\n",
        "- `0`: quedarse quieto\n",
        "- `1`: disparar\n",
        "- `2`: mover hacia la izquierda\n",
        "- `3`: mover hacia la derecha\n"
      ]
    },
    {
      "cell_type": "code",
      "metadata": {
        "id": "emsFyCiARZxD",
        "colab_type": "code",
        "colab": {}
      },
      "source": [
        "GAME = \"BreakoutDeterministic-v4\" # \"BreakoutDeterministic-v0\"\n",
        "\n",
        "# Atari Breakout actions: 0 (noop), 1 (fire), 2 (left) and 3 (right) \n",
        "VALID_ACTIONS = [0, 1, 2, 3]"
      ],
      "execution_count": 0,
      "outputs": []
    },
    {
      "cell_type": "markdown",
      "metadata": {
        "id": "gKTGgtDuRZxG",
        "colab_type": "text"
      },
      "source": [
        "#### Set la moda(entrenamiento/validación) y empecemos las iteraciones"
      ]
    },
    {
      "cell_type": "markdown",
      "metadata": {
        "id": "EWzFc_85RZxH",
        "colab_type": "text"
      },
      "source": [
        "Haremos el set de la moda en la variable `train_or_test`. Comencemos con `'train'` (más adelante se podrá hacer el set de esta variable a `'test'` para evaluar el modelo luego de que se complete el entrenamiento). También haremos el entrenamiento desde el principio desde la iteración `0`: "
      ]
    },
    {
      "cell_type": "code",
      "metadata": {
        "id": "DEiVGhc4RZxI",
        "colab_type": "code",
        "colab": {}
      },
      "source": [
        "# set parameters for running\n",
        "\n",
        "train_or_test = 'train' #'test' #'train'\n",
        "train_from_scratch = True\n",
        "start_iter = 0\n",
        "start_episode = 0\n",
        "epsilon_start = 1.0"
      ],
      "execution_count": 0,
      "outputs": []
    },
    {
      "cell_type": "markdown",
      "metadata": {
        "id": "PnuVL9TyRZxN",
        "colab_type": "text"
      },
      "source": [
        "#### Creamos el ambiente"
      ]
    },
    {
      "cell_type": "markdown",
      "metadata": {
        "id": "VDO-MJmGRZxN",
        "colab_type": "text"
      },
      "source": [
        "Crearemos el objeto de ambiente `env`, el cuál creará el juego `GAME`. \n",
        "\n",
        "- `env.action_space.n` va a hacer el print del número de acciones en este ambiente.\n",
        "- `env.reset()` va a hacer el reset del juego y nos retornará el estado/observación inicial.\n",
        "- `observation.shape` va a hacer el print del shape del espacio de estados."
      ]
    },
    {
      "cell_type": "code",
      "metadata": {
        "id": "A9z_knBbRZxO",
        "colab_type": "code",
        "colab": {}
      },
      "source": [
        "env = gym.envs.make(GAME)\n",
        "\n",
        "print(\"Action space size: {}\".format(env.action_space.n))\n",
        "observation = env.reset()\n",
        "print(\"Observation space shape: {}\".format(observation.shape))"
      ],
      "execution_count": 0,
      "outputs": []
    },
    {
      "cell_type": "markdown",
      "metadata": {
        "id": "wMYP1-GWRZxQ",
        "colab_type": "text"
      },
      "source": [
        "#### Creamos los paths y directorios para almacenar los archivos de checkpoint"
      ]
    },
    {
      "cell_type": "code",
      "metadata": {
        "id": "leFjNGn0RZxR",
        "colab_type": "code",
        "colab": {}
      },
      "source": [
        "# experiment dir\n",
        "experiment_dir = os.path.abspath(\"./experiments/{}\".format(env.spec.id))\n",
        "\n",
        "\n",
        "# create ckpt directory    \n",
        "checkpoint_dir = os.path.join(experiment_dir, \"ckpt\")\n",
        "checkpoint_path = os.path.join(checkpoint_dir, \"model\")\n",
        "    \n",
        "if not os.path.exists(checkpoint_dir):\n",
        "   os.makedirs(checkpoint_dir)"
      ],
      "execution_count": 0,
      "outputs": []
    },
    {
      "cell_type": "markdown",
      "metadata": {
        "id": "cOAn6QAhRZxX",
        "colab_type": "text"
      },
      "source": [
        "#### La función `deep_q_learning()`"
      ]
    },
    {
      "cell_type": "markdown",
      "metadata": {
        "id": "Z3-BgW_ORZxY",
        "colab_type": "text"
      },
      "source": [
        "Crearemos a continuación la función `deep_q_learning()`, la cual tendrá una gran lista de argumentos que involucran el objeto de la sesión de TensorFLow, el ambiente, los objetos de las redes Q-network y target, y así. \n",
        "\n",
        "La política que se usará será la construida `epsilon_greedy_policy()`:"
      ]
    },
    {
      "cell_type": "code",
      "metadata": {
        "jupyter": {
          "source_hidden": true
        },
        "id": "-ydnYqfKRZxZ",
        "colab_type": "code",
        "colab": {}
      },
      "source": [
        "def deep_q_learning(sess, env, q_net, target_net, state_processor, num_episodes, train_or_test='train', train_from_scratch=True,\n",
        "                    start_iter=0, start_episode=0, replay_memory_size=250000, replay_memory_init_size=50000, update_target_net_every=10000,\n",
        "                    gamma=0.99, epsilon_start=1.0, epsilon_end=[0.1,0.01], epsilon_decay_steps=[1e6,1e6], batch_size=32):\n",
        "                   \n",
        "    Transition = namedtuple(\"Transition\", [\"state\", \"action\", \"reward\", \"next_state\", \"done\"])\n",
        "\n",
        "    # policy \n",
        "    policy = epsilon_greedy_policy(q_net, len(VALID_ACTIONS))\n",
        "\n",
        "\n",
        "    # populate replay memory\n",
        "    if (train_or_test == 'train'):\n",
        "      print(\"populating replay memory\")\n",
        "      replay_memory = populate_replay_mem(sess, env, state_processor, replay_memory_init_size, policy, epsilon_start, \n",
        "                                                       epsilon_end[0], epsilon_decay_steps[0], VALID_ACTIONS, Transition)\n",
        "\n",
        "\n",
        "    # epsilon start\n",
        "    if (train_or_test == 'train'):\n",
        "       delta_epsilon1 = (epsilon_start - epsilon_end[0])/float(epsilon_decay_steps[0])     \n",
        "       delta_epsilon2 = (epsilon_end[0] - epsilon_end[1])/float(epsilon_decay_steps[1])    \n",
        "       if (train_from_scratch == True):\n",
        "          epsilon = epsilon_start\n",
        "       else:\n",
        "          if (start_iter <= epsilon_decay_steps[0]):\n",
        "             epsilon = max(epsilon_start - float(start_iter) * delta_epsilon1, epsilon_end[0])\n",
        "          elif (start_iter > epsilon_decay_steps[0] and start_iter < epsilon_decay_steps[0]+epsilon_decay_steps[1]):\n",
        "             epsilon = max(epsilon_end[0] - float(start_iter) * delta_epsilon2, epsilon_end[1])\n",
        "          else:\n",
        "             epsilon = epsilon_end[1]      \n",
        "    elif (train_or_test == 'test'):\n",
        "       epsilon = epsilon_end[1]\n",
        "\n",
        "\n",
        "    # total number of time steps \n",
        "    total_t = start_iter\n",
        "\n",
        "\n",
        "    for ep in range(start_episode, num_episodes):\n",
        "\n",
        "        # save ckpt\n",
        "        saver.save(tf.get_default_session(), checkpoint_path)\n",
        "\n",
        "        # env reset\n",
        "        state = env.reset()\n",
        "        state = state_processor.process(sess, state)\n",
        "        state = np.stack([state] * 4, axis=2)\n",
        "\n",
        "        loss = 0.0\n",
        "        time_steps = 0\n",
        "        episode_rewards = 0.0\n",
        "    \n",
        "        ale_lives = 5\n",
        "        info_ale_lives = ale_lives\n",
        "        steps_in_this_life = 1000000\n",
        "        num_no_ops_this_life = 0\n",
        "\n",
        "\n",
        "\n",
        "        while True:\n",
        "            \n",
        "            if (train_or_test == 'train'):\n",
        "              #epsilon = max(epsilon - delta_epsilon, epsilon_end) \n",
        "              if (total_t <= epsilon_decay_steps[0]):\n",
        "                    epsilon = max(epsilon - delta_epsilon1, epsilon_end[0]) \n",
        "              elif (total_t >= epsilon_decay_steps[0] and total_t <= epsilon_decay_steps[0]+epsilon_decay_steps[1]):\n",
        "                    epsilon = epsilon_end[0] - (epsilon_end[0]-epsilon_end[1]) / float(epsilon_decay_steps[1]) * float(total_t-epsilon_decay_steps[0]) \n",
        "                    epsilon = max(epsilon, epsilon_end[1])           \n",
        "              else:\n",
        "                    epsilon = epsilon_end[1]\n",
        "\n",
        "\n",
        "              # update target net\n",
        "              if total_t % update_target_net_every == 0:\n",
        "                 copy_model_parameters(sess, q_net, target_net)\n",
        "                 print(\"\\n copied params from Q net to target net \")\n",
        "\n",
        "                   \n",
        "            time_to_fire = False\n",
        "            if (time_steps == 0 or ale_lives != info_ale_lives):\n",
        "               # new game or new life \n",
        "               steps_in_this_life = 0\n",
        "               num_no_ops_this_life = np.random.randint(low=0,high=7)\n",
        "               action_probs = [0.0, 1.0, 0.0, 0.0]  # fire\n",
        "               time_to_fire = True\n",
        "               if (ale_lives != info_ale_lives):\n",
        "                  ale_lives = info_ale_lives\n",
        "            else:\n",
        "               action_probs = policy(sess, state, epsilon)\n",
        "\n",
        "            steps_in_this_life += 1 \n",
        "            if (steps_in_this_life < num_no_ops_this_life and not time_to_fire):\n",
        "               # no-op\n",
        "               action_probs = [1.0, 0.0, 0.0, 0.0] # no-op\n",
        "\n",
        "\n",
        "\n",
        "            action = np.random.choice(np.arange(len(action_probs)), p=action_probs)\n",
        "             \n",
        "            env.render()\n",
        "            next_state_img, reward, done, info = env.step(VALID_ACTIONS[action]) \n",
        "            \n",
        "            info_ale_lives = int(info['ale.lives'])\n",
        "\n",
        "            # rewards = -1,0,+1 as done in the paper\n",
        "            #reward = np.sign(reward)\n",
        "\n",
        "            next_state_img = state_processor.process(sess, next_state_img)\n",
        "\n",
        "            # state is of size [84,84,4]; next_state_img is of size[84,84]\n",
        "            #next_state = np.append(state[:,:,1:], np.expand_dims(next_state, 2), axis=2)\n",
        "            next_state = np.zeros((84,84,4),dtype=np.uint8)\n",
        "            next_state[:,:,0] = state[:,:,1] \n",
        "            next_state[:,:,1] = state[:,:,2]\n",
        "            next_state[:,:,2] = state[:,:,3]\n",
        "            next_state[:,:,3] = next_state_img    \n",
        "\n",
        "\n",
        "            episode_rewards += reward  \n",
        "            time_steps += 1\n",
        "\n",
        " \n",
        "            if (train_or_test == 'train'):\n",
        "\n",
        "                # if replay memory is full, pop the first element\n",
        "                if len(replay_memory) == replay_memory_size:\n",
        "                    replay_memory.pop(0)\n",
        "\n",
        "                # save transition to replay memory\n",
        "                # done = True in replay memory for every loss of life \n",
        "                if (ale_lives == info_ale_lives):\n",
        "                   replay_memory.append(Transition(state, action, reward, next_state, done))   \n",
        "                else:\n",
        "                   #print('loss of life ')\n",
        "                   replay_memory.append(Transition(state, action, reward, next_state, True))               \n",
        "\n",
        "                # sample a minibatch from replay memory\n",
        "                samples = random.sample(replay_memory, batch_size)\n",
        "                states_batch, action_batch, reward_batch, next_states_batch, done_batch = map(np.array, zip(*samples))\n",
        "\n",
        "\n",
        "                # calculate q values and targets \n",
        "                q_values_next = target_net.predict(sess, next_states_batch)\n",
        "                greedy_q = np.amax(q_values_next, axis=1) \n",
        "                targets_batch = reward_batch + np.invert(done_batch).astype(np.float32) * gamma * greedy_q\n",
        "               \n",
        "\n",
        "                # update net \n",
        "                if (total_t % 4 == 0):\n",
        "                   states_batch = np.array(states_batch)\n",
        "                   loss = q_net.update(sess, states_batch, action_batch, targets_batch)\n",
        "\n",
        "            if done:\n",
        "                #print(\"done: \", done)\n",
        "                break\n",
        "\n",
        "            state = next_state\n",
        "            total_t += 1\n",
        "            \n",
        "\n",
        "        if (train_or_test == 'train'): \n",
        "           print('\\n Eisode: ', ep, '| time steps: ', time_steps, '| total episode reward: ', episode_rewards, '| total_t: ', total_t, '| epsilon: ', epsilon, '| replay mem size: ', len(replay_memory))\n",
        "        elif (train_or_test == 'test'):\n",
        "           print('\\n Eisode: ', ep, '| time steps: ', time_steps, '| total episode reward: ', episode_rewards, '| total_t: ', total_t, '| epsilon: ', epsilon)\n",
        "\n",
        "\n",
        "        if (train_or_test == 'train'):\n",
        "            f = open(\"experiments/\" + str(env.spec.id) + \"/performance.txt\", \"a+\")\n",
        "            f.write(str(ep) + \" \" + str(time_steps) + \" \" + str(episode_rewards) + \" \" + str(total_t) + \" \" + str(epsilon) + '\\n')  \n",
        "            f.close()"
      ],
      "execution_count": 0,
      "outputs": []
    },
    {
      "cell_type": "markdown",
      "metadata": {
        "id": "UNA2847-RZxb",
        "colab_type": "text"
      },
      "source": [
        "Veamos a detalle cada parte de esta función."
      ]
    },
    {
      "cell_type": "markdown",
      "metadata": {
        "id": "AWlMpKl8RZxc",
        "colab_type": "text"
      },
      "source": [
        "##### Definimos la función `deep_q_learning()`"
      ]
    },
    {
      "cell_type": "markdown",
      "metadata": {
        "id": "K3ruGd0WRZxc",
        "colab_type": "text"
      },
      "source": [
        "Aquí empezamos con la definición de la función la cuál usará la política `epsilon_greedy_policy()`:"
      ]
    },
    {
      "cell_type": "markdown",
      "metadata": {
        "id": "rY4JHwTMRZxd",
        "colab_type": "text"
      },
      "source": [
        "```python\n",
        "def deep_q_learning(sess, env, q_net, target_net, state_processor, num_episodes, train_or_test='train', train_from_scratch=True,\n",
        "                    start_iter=0, start_episode=0, replay_memory_size=250000, replay_memory_init_size=50000, update_target_net_every=10000,\n",
        "                    gamma=0.99, epsilon_start=1.0, epsilon_end=[0.1,0.01], epsilon_decay_steps=[1e6,1e6], batch_size=32):\n",
        "                   \n",
        "    Transition = namedtuple(\"Transition\", [\"state\", \"action\", \"reward\", \"next_state\", \"done\"])\n",
        "\n",
        "    # policy \n",
        "    policy = epsilon_greedy_policy(q_net, len(VALID_ACTIONS))\n",
        "```"
      ]
    },
    {
      "cell_type": "markdown",
      "metadata": {
        "id": "9MZkYjOWRZxd",
        "colab_type": "text"
      },
      "source": [
        "##### Poblamos la memoria de replay"
      ]
    },
    {
      "cell_type": "markdown",
      "metadata": {
        "id": "CkXLZ9A-RZxe",
        "colab_type": "text"
      },
      "source": [
        "Poblaremos la memoria de replay con experiencias encontradas con acciones iniciales aleatorias. Es decir la poblaremos con muestras iniciales:"
      ]
    },
    {
      "cell_type": "markdown",
      "metadata": {
        "id": "NBUxhgSMRZxe",
        "colab_type": "text"
      },
      "source": [
        "```python\n",
        "    # populate replay memory\n",
        "    if (train_or_test == 'train'):\n",
        "      print(\"populating replay memory\")\n",
        "      replay_memory = populate_replay_mem(sess, env, state_processor, replay_memory_init_size, policy, epsilon_start, \n",
        "                                                       epsilon_end[0], epsilon_decay_steps[0], VALID_ACTIONS, Transition)\n",
        "```"
      ]
    },
    {
      "cell_type": "markdown",
      "metadata": {
        "id": "374EOXq2RZxf",
        "colab_type": "text"
      },
      "source": [
        "##### Set de los valores epsilon"
      ]
    },
    {
      "cell_type": "markdown",
      "metadata": {
        "id": "RG9GXLhSRZxf",
        "colab_type": "text"
      },
      "source": [
        "Ahora haremos el set de los valores `epsilon`. Nótese que tenemos una función lineal doble, la cuál hará decrecer el valor de `epsilon`, primero de $1$ a $0.1$, y luego de $0.1$ a $0.01$, en tantos pasos, como estén especificados en `epsilon_decay_steps`: "
      ]
    },
    {
      "cell_type": "markdown",
      "metadata": {
        "id": "FLEmbV3rRZxg",
        "colab_type": "text"
      },
      "source": [
        "```python\n",
        "    # epsilon start\n",
        "    if (train_or_test == 'train'):\n",
        "       delta_epsilon1 = (epsilon_start - epsilon_end[0])/float(epsilon_decay_steps[0])     \n",
        "       delta_epsilon2 = (epsilon_end[0] - epsilon_end[1])/float(epsilon_decay_steps[1])    \n",
        "       if (train_from_scratch == True):\n",
        "          epsilon = epsilon_start\n",
        "       else:\n",
        "          if (start_iter <= epsilon_decay_steps[0]):\n",
        "             epsilon = max(epsilon_start - float(start_iter) * delta_epsilon1, epsilon_end[0])\n",
        "          elif (start_iter > epsilon_decay_steps[0] and start_iter < epsilon_decay_steps[0]+epsilon_decay_steps[1]):\n",
        "             epsilon = max(epsilon_end[0] - float(start_iter) * delta_epsilon2, epsilon_end[1])\n",
        "          else:\n",
        "             epsilon = epsilon_end[1]      \n",
        "    elif (train_or_test == 'test'):\n",
        "       epsilon = epsilon_end[1]\n",
        "```"
      ]
    },
    {
      "cell_type": "markdown",
      "metadata": {
        "id": "9Z6YVCODRZxg",
        "colab_type": "text"
      },
      "source": [
        "##### Set del número total de time steps"
      ]
    },
    {
      "cell_type": "markdown",
      "metadata": {
        "id": "w-xMFoRlRZxh",
        "colab_type": "text"
      },
      "source": [
        "```python\n",
        "    # total number of time steps \n",
        "    total_t = start_iter\n",
        "```"
      ]
    },
    {
      "cell_type": "markdown",
      "metadata": {
        "id": "265nN5KPRZxh",
        "colab_type": "text"
      },
      "source": [
        "Luego, el loop principal inicia sobre los episodios, desde `start_episode` hasta el número total de episodios `num_episodes`.\n",
        "\n",
        "Primero hacemos el reset del episodio, procesamos el primer frame, y lo apilamos 4 veces. Luego inicializamos `loss`, `time_steps`, y `episode_rewards` a `0`.\n",
        "\n",
        "El número total de vidas en el juego Breakout por episodio son 5, y llevaremos cuenta de esto en la variable `ale_lives`. El número total de time steps en la vida actual del agente se inicializa con un número grande:"
      ]
    },
    {
      "cell_type": "markdown",
      "metadata": {
        "id": "_0OhDfdKRZxi",
        "colab_type": "text"
      },
      "source": [
        "```python\n",
        "    for ep in range(start_episode, num_episodes):\n",
        "\n",
        "        # save ckpt\n",
        "        saver.save(tf.get_default_session(), checkpoint_path)\n",
        "\n",
        "        # env reset\n",
        "        state = env.reset()\n",
        "        state = state_processor.process(sess, state)\n",
        "        state = np.stack([state] * 4, axis=2)\n",
        "\n",
        "        loss = 0.0\n",
        "        time_steps = 0\n",
        "        episode_rewards = 0.0\n",
        "    \n",
        "        ale_lives = 5\n",
        "        info_ale_lives = ale_lives\n",
        "        steps_in_this_life = 1000000\n",
        "        num_no_ops_this_life = 0\n",
        "```"
      ]
    },
    {
      "cell_type": "markdown",
      "metadata": {
        "id": "71CzJtj-RZxj",
        "colab_type": "text"
      },
      "source": [
        "##### Tracking de los time steps"
      ]
    },
    {
      "cell_type": "markdown",
      "metadata": {
        "id": "UKvhFZ1FRZxk",
        "colab_type": "text"
      },
      "source": [
        "Usaremos un `while` loop interno para hacer el track de los time steps dado un episodio. \n",
        "\n",
        "Nota: El `for` loop de afuera está sobre los episodios, en cambio el `while` loop de adentro está sobre los time steps del episodio actual.\n",
        "\n",
        "Haremos decrecer el valor de `epsilon` de acuerdo y dependiendo de si está en el rango $(0.1,1)$ o $(0.01,0.1)$, para los cuales se aplica un valor diferente de `delta_epsilon`:"
      ]
    },
    {
      "cell_type": "markdown",
      "metadata": {
        "id": "Rtix2aUmRZxl",
        "colab_type": "text"
      },
      "source": [
        "```python\n",
        "    while True:\n",
        "            \n",
        "            if (train_or_test == 'train'):\n",
        "              #epsilon = max(epsilon - delta_epsilon, epsilon_end) \n",
        "              if (total_t <= epsilon_decay_steps[0]):\n",
        "                    epsilon = max(epsilon - delta_epsilon1, epsilon_end[0]) \n",
        "              elif (total_t >= epsilon_decay_steps[0] and total_t <= epsilon_decay_steps[0]+epsilon_decay_steps[1]):\n",
        "                    epsilon = epsilon_end[0] - (epsilon_end[0]-epsilon_end[1]) / float(epsilon_decay_steps[1]) * float(total_t-epsilon_decay_steps[0]) \n",
        "                    epsilon = max(epsilon, epsilon_end[1])           \n",
        "              else:\n",
        "                    epsilon = epsilon_end[1]\n",
        "```"
      ]
    },
    {
      "cell_type": "markdown",
      "metadata": {
        "id": "-nzL6aQTRZxm",
        "colab_type": "text"
      },
      "source": [
        "##### Actualizando la red target"
      ]
    },
    {
      "cell_type": "markdown",
      "metadata": {
        "id": "AYf6lJdQRZxm",
        "colab_type": "text"
      },
      "source": [
        "Hacemos el update de la red target si el número total de time steps en el modelo es un múltiplo de `update_target_net_every`, el cuál es un parámetro definido por el usuario. Se usa también la función `copy_model_parameters()`:"
      ]
    },
    {
      "cell_type": "markdown",
      "metadata": {
        "id": "9C_iuQBuRZxn",
        "colab_type": "text"
      },
      "source": [
        "```python\n",
        "              # update target net\n",
        "              if total_t % update_target_net_every == 0:\n",
        "                 copy_model_parameters(sess, q_net, target_net)\n",
        "                 print(\"\\n copied params from Q net to target net \")\n",
        "```"
      ]
    },
    {
      "cell_type": "markdown",
      "metadata": {
        "id": "qHkpHr4iRZxn",
        "colab_type": "text"
      },
      "source": [
        "En el comienzo de cada vida del agente, emprendemos por tomar la acción de **quedarse quieto** que corresponde a las probabilidades de acción $[1,0,0,0]$, un número aleatorio de veces entre 0 y 7 para hacer el episodio distinto a los pasados, para que el agente obtenga una mayor variación cuando explora y aprende del ambiente. Este paso de aletoriedad también se concibe en el paper donde se describe el algoritmo original de DeepMind, y nos asegura que el agente aprende mejor, ya que la aleatoriedad nos brinda mayor diversidad experimentada.\n",
        "\n",
        "Una vez terminamos este primer ciclo de aleatoriedad, las acciones se toman de acuerdo a la función `policy()`.\n",
        "\n",
        "Nótese que aún necesitamos tomar una acción de **disparar** que corresponde a las probabilidades de acción $[0,1,0,0]$, esto para un time step al inicio de cada vida con el fin de darle el puntapié de inicio a nuestro agente. Esto es un requerimiento para el framework ALE, sin el cuál los frames simplemente se congelarían. \n",
        "\n",
        "Así, el ciclo de vida evoluciona, empezando por una operación de disparo, seguido por un número aleatorio (entre 0 y 7) de **quedarse quieto**, y luego el agente usa la función `policy()`:\n"
      ]
    },
    {
      "cell_type": "markdown",
      "metadata": {
        "id": "7Aso44SMRZxo",
        "colab_type": "text"
      },
      "source": [
        "```python\n",
        "            time_to_fire = False\n",
        "            if (time_steps == 0 or ale_lives != info_ale_lives):\n",
        "               # new game or new life \n",
        "               steps_in_this_life = 0\n",
        "               num_no_ops_this_life = np.random.randint(low=0,high=7)\n",
        "               action_probs = [0.0, 1.0, 0.0, 0.0]  # fire\n",
        "               time_to_fire = True\n",
        "               if (ale_lives != info_ale_lives):\n",
        "                  ale_lives = info_ale_lives\n",
        "            else:\n",
        "               action_probs = policy(sess, state, epsilon)\n",
        "\n",
        "            steps_in_this_life += 1 \n",
        "            if (steps_in_this_life < num_no_ops_this_life and not time_to_fire):\n",
        "               # no-op\n",
        "               action_probs = [1.0, 0.0, 0.0, 0.0] # no-op\n",
        "```"
      ]
    },
    {
      "cell_type": "markdown",
      "metadata": {
        "id": "ft7VUQolRZxo",
        "colab_type": "text"
      },
      "source": [
        "Ahora tomaremos una acción usando `np.random.choice`, que usará las probabilidades de `action_probs`. Luego renderizamos el ambiente y tomar un `step.info['ale.lives']` nos permitirá saber el número de vidas restantes del agente, de lo cuál podremos asegurar si el agente perdió una vida en el time step actual. \n",
        "\n",
        "En el paper de Deep Mind, las recompensas se establecieron como `+1` o `-1` dependiendo en la señal de recompensa, para ser comparables en diferentes juegos. Esto se logra usando `np.sign(reward)`, que no se usará aquí por ahora.\n",
        "\n",
        "Luego procesamos `next_state_image` para convertirla a una escala de grises del tamaño deseado, que luego se añade al vecotr `next_state`, que mantiene una secuencia de 4 frames contiguos. Las recompensas obtenidas se usan para incrementar `episode rewards`, y también incrementar `time_steps`:"
      ]
    },
    {
      "cell_type": "markdown",
      "metadata": {
        "id": "cyih3goDRZxp",
        "colab_type": "text"
      },
      "source": [
        "```python            \n",
        "            action = np.random.choice(np.arange(len(action_probs)), p=action_probs)\n",
        "             \n",
        "            env.render()\n",
        "            next_state_img, reward, done, info = env.step(VALID_ACTIONS[action]) \n",
        "            \n",
        "            info_ale_lives = int(info['ale.lives'])\n",
        "\n",
        "            # rewards = -1,0,+1 as done in the paper\n",
        "            #reward = np.sign(reward)\n",
        "\n",
        "            next_state_img = state_processor.process(sess, next_state_img)\n",
        "\n",
        "            # state is of size [84,84,4]; next_state_img is of size[84,84]\n",
        "            #next_state = np.append(state[:,:,1:], np.expand_dims(next_state, 2), axis=2)\n",
        "            next_state = np.zeros((84,84,4),dtype=np.uint8)\n",
        "            next_state[:,:,0] = state[:,:,1] \n",
        "            next_state[:,:,1] = state[:,:,2]\n",
        "            next_state[:,:,2] = state[:,:,3]\n",
        "            next_state[:,:,3] = next_state_img    \n",
        "\n",
        "\n",
        "            episode_rewards += reward  \n",
        "            time_steps += 1\n",
        "```"
      ]
    },
    {
      "cell_type": "markdown",
      "metadata": {
        "id": "6CEW5GYWRZxp",
        "colab_type": "text"
      },
      "source": [
        "##### Actualizando las redes"
      ]
    },
    {
      "cell_type": "markdown",
      "metadata": {
        "id": "FiVY2iH3RZxq",
        "colab_type": "text"
      },
      "source": [
        "Si estamos en modo de entrenamiento `'train'`, vamos a actualizar las redes. Primero sacamos el emento más antiguo en la memoria de replay si el tamaño se sobrepasa. Luego añadimos la tupla reciente `(state, action, reward, next_state, done)` a la memoria de replay. Nótese que si hemos perdido una vida, trataremos `done = True` en el último paso para que el agente aprenda a evitar perder vidas; sin esto, `done = True` se experimenta solo cuando el episodio termina, es decir, cuando todas las vidas se gastan. Por esto enfatizamos en que el agente se consciente de perder vidas:"
      ]
    },
    {
      "cell_type": "markdown",
      "metadata": {
        "id": "WrYhKvsDRZxq",
        "colab_type": "text"
      },
      "source": [
        "##### Muestreando un mini-batch del replay buffer"
      ]
    },
    {
      "cell_type": "markdown",
      "metadata": {
        "id": "pmd5I-rZRZxr",
        "colab_type": "text"
      },
      "source": [
        "Ahora muestreamos un mini-batch del replay buffer de `batch_size`. Calculamos los valores $Q$ del siguiente estado (`q_values_next`) usando la red target, y la usamos para el calculo del valor $Q$ greedy, el cuál se usa para calcular el target ($y$ en la ecuación presentada anterior). Una vez cada cuatro pasos, actualizamos la red $Q$ usando `q_net.update()`; esta frecuencia de actualización es de una vez cada cuatro, que se conoce por su estabilidad:"
      ]
    },
    {
      "cell_type": "markdown",
      "metadata": {
        "id": "ZbeagUZiRZxs",
        "colab_type": "text"
      },
      "source": [
        "```python\n",
        "            if (train_or_test == 'train'):\n",
        "\n",
        "                # if replay memory is full, pop the first element\n",
        "                if len(replay_memory) == replay_memory_size:\n",
        "                    replay_memory.pop(0)\n",
        "\n",
        "                # save transition to replay memory\n",
        "                # done = True in replay memory for every loss of life \n",
        "                if (ale_lives == info_ale_lives):\n",
        "                   replay_memory.append(Transition(state, action, reward, next_state, done))   \n",
        "                else:\n",
        "                   #print('loss of life ')\n",
        "                   replay_memory.append(Transition(state, action, reward, next_state, True))               \n",
        "\n",
        "                # sample a minibatch from replay memory\n",
        "                samples = random.sample(replay_memory, batch_size)\n",
        "                states_batch, action_batch, reward_batch, next_states_batch, done_batch = map(np.array, zip(*samples))\n",
        "\n",
        "\n",
        "                # calculate q values and targets \n",
        "                q_values_next = target_net.predict(sess, next_states_batch)\n",
        "                greedy_q = np.amax(q_values_next, axis=1) \n",
        "                targets_batch = reward_batch + np.invert(done_batch).astype(np.float32) * gamma * greedy_q\n",
        "               \n",
        "\n",
        "                # update net \n",
        "                if (total_t % 4 == 0):\n",
        "                   states_batch = np.array(states_batch)\n",
        "                   loss = q_net.update(sess, states_batch, action_batch, targets_batch)\n",
        "```"
      ]
    },
    {
      "cell_type": "markdown",
      "metadata": {
        "id": "Cm6CPzB6RZxs",
        "colab_type": "text"
      },
      "source": [
        "Ahora salimos del `while` loop de adentro si  `done = True`, de otra manera, avanzamos al siguiente time step, donde el estado ahora será `new_state` del paso anterior. Podemos también printear en pantalla:\n",
        "- El número de episodio\n",
        "- Time steps para el episodio\n",
        "- La recompensa alcanzada por episodio\n",
        "- El `epsilon` actual\n",
        "- El tamaño del buffer al final del episodio\n",
        "\n",
        "Estos valores será útiles para el análisis posterior, así que los guardaremos en un archivo llamado `performance.txt`:"
      ]
    },
    {
      "cell_type": "markdown",
      "metadata": {
        "id": "CsiAhxOZRZxt",
        "colab_type": "text"
      },
      "source": [
        "```python            \n",
        "            if done:\n",
        "                #print(\"done: \", done)\n",
        "                break\n",
        "\n",
        "            state = next_state\n",
        "            total_t += 1\n",
        "            \n",
        "\n",
        "        if (train_or_test == 'train'): \n",
        "           print('\\n Eisode: ', ep, '| time steps: ', time_steps, '| total episode reward: ', episode_rewards, '| total_t: ', total_t, '| epsilon: ', epsilon, '| replay mem size: ', len(replay_memory))\n",
        "        elif (train_or_test == 'test'):\n",
        "           print('\\n Eisode: ', ep, '| time steps: ', time_steps, '| total episode reward: ', episode_rewards, '| total_t: ', total_t, '| epsilon: ', epsilon)\n",
        "\n",
        "\n",
        "        if (train_or_test == 'train'):\n",
        "            f = open(\"experiments/\" + str(env.spec.id) + \"/performance.txt\", \"a+\")\n",
        "            f.write(str(ep) + \" \" + str(time_steps) + \" \" + str(episode_rewards) + \" \" + str(total_t) + \" \" + str(epsilon) + '\\n')  \n",
        "            f.close()\n",
        "```            "
      ]
    },
    {
      "cell_type": "markdown",
      "metadata": {
        "id": "JAGLrw1-RZxt",
        "colab_type": "text"
      },
      "source": [
        "#### Últimos detalles"
      ]
    },
    {
      "cell_type": "markdown",
      "metadata": {
        "id": "CAngYxADRZxt",
        "colab_type": "text"
      },
      "source": [
        "Reseteamos el grafo de TensorFLow para que empiece usando `tf.reset_default_graph()`. Entonces, creamos dos instancias de la clase `QNetwork()`, los objetos `q_net` y `target_net`. \n",
        "\n",
        "Creamos también un objeto `state_processor` de la clase `ImageProcess` y un objeto TensorFlow `saver`:"
      ]
    },
    {
      "cell_type": "code",
      "metadata": {
        "id": "t-gWzFX7RZxu",
        "colab_type": "code",
        "colab": {}
      },
      "source": [
        "tf.reset_default_graph()\n",
        "\n",
        "\n",
        "# Q and target networks \n",
        "q_net = QNetwork(scope=\"q\",VALID_ACTIONS=VALID_ACTIONS)\n",
        "target_net = QNetwork(scope=\"target_q\", VALID_ACTIONS=VALID_ACTIONS)\n",
        "\n",
        "# state processor\n",
        "state_processor = ImageProcess()\n",
        "\n",
        "# tf saver\n",
        "saver = tf.train.Saver()"
      ],
      "execution_count": 0,
      "outputs": []
    },
    {
      "cell_type": "markdown",
      "metadata": {
        "id": "2er7JsaaRZxy",
        "colab_type": "text"
      },
      "source": [
        "Ahora ejecutamos nuestro grafo de TensorFlow llamando `tf.Session()`. Si empezamos desde el inicio en modo `'train'`, tenemos que inicializar las variables, que se logra al llamar `sess.run()` en `tf.global_variables_initializer()`. \n",
        "\n",
        "De otra manera, si estamos en modo `'test'`, o en modo de entramiento pero no desde el inicio, cargamos el último checkpoint file al llamar `saver.restore()`."
      ]
    },
    {
      "cell_type": "markdown",
      "metadata": {
        "id": "BnrMzBmFRZxz",
        "colab_type": "text"
      },
      "source": [
        "El parámetro `replay_memory_size` está limitado por la capacidad de almacenamiento en memoria RAM que se tenga disponible en la máquina. Las presentes simulaciones se realizaron usando una imagen de Ubuntu 18.04 corriendo en un hipervisor Virtual Box al cuál se le asignaron 10GB de RAM en un sistema local Windows 10, y  el límite era `replay_memory_size = 300000`.\n",
        "\n",
        "DeepMind usó un tamaño de memoria de replay de $1000000$. Un tamaño de memoria de replay grande es bueno ya que proveerá mayor diversidad en el entrenamiento al muestrear un mini-batch:"
      ]
    },
    {
      "cell_type": "code",
      "metadata": {
        "id": "PHHIG7C5RZx1",
        "colab_type": "code",
        "colab": {}
      },
      "source": [
        "with tf.Session() as sess:\n",
        " \n",
        "      # load model/ initialize model\n",
        "      if ((train_or_test == 'train' and train_from_scratch == False) or train_or_test == 'test'):\n",
        "                 latest_checkpoint = tf.train.latest_checkpoint(checkpoint_dir)\n",
        "                 print(\"loading model ckpt {}...\\n\".format(latest_checkpoint))\n",
        "                 saver.restore(sess, latest_checkpoint)\n",
        "      elif (train_or_test == 'train' and train_from_scratch == True):\n",
        "                 sess.run(tf.global_variables_initializer())    \n",
        "\n",
        "\n",
        "\n",
        "      # run\n",
        "      deep_q_learning(sess, env, q_net=q_net, target_net=target_net, state_processor=state_processor, num_episodes=25000,\n",
        "                            train_or_test=train_or_test, train_from_scratch=train_from_scratch, start_iter=start_iter, start_episode=start_episode,\n",
        "                                    replay_memory_size=300000, replay_memory_init_size=5000, update_target_net_every=10000,\n",
        "                                    gamma=0.99, epsilon_start=epsilon_start, epsilon_end=[0.1,0.01], epsilon_decay_steps=[1e6,1e6], batch_size=32)"
      ],
      "execution_count": 0,
      "outputs": []
    }
  ]
}